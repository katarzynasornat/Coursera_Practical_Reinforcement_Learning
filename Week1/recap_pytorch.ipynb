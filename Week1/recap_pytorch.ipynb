{
  "nbformat": 4,
  "nbformat_minor": 0,
  "metadata": {
    "colab": {
      "name": "recap_pytorch.ipynb",
      "provenance": []
    },
    "kernelspec": {
      "name": "python3",
      "display_name": "Python 3"
    }
  },
  "cells": [
    {
      "cell_type": "markdown",
      "metadata": {
        "id": "qO1oUbv8ToAs"
      },
      "source": [
        "# Hello, PyTorch\n",
        "\n",
        "![img](https://pytorch.org/tutorials/_static/pytorch-logo-dark.svg)\n",
        "\n",
        "__This notebook__ will teach you to use PyTorch low-level core. If you're running this notebook outside the course environment, you can install it [here](https://pytorch.org).\n",
        "\n",
        "__PyTorch feels__ differently than tensorflow/theano on almost every level. TensorFlow makes your code live in two \"worlds\" simultaneously:  symbolic graphs and actual tensors. First you declare a symbolic \"recipe\" of how to get from inputs to outputs, then feed it with actual minibatches of data.  In PyTorch, __there's only one world__: all tensors have a numeric value.\n",
        "\n",
        "You compute outputs on the fly without pre-declaring anything. The code looks exactly as in pure numpy with one exception: PyTorch computes gradients for you. And can run stuff on GPU. And has a number of pre-implemented building blocks for your neural nets. [And a few more things.](https://medium.com/towards-data-science/pytorch-vs-tensorflow-spotting-the-difference-25c75777377b)\n",
        "\n",
        "And now we finally shut up and let PyTorch do the talking."
      ]
    },
    {
      "cell_type": "code",
      "metadata": {
        "id": "DQ10lklwToA3"
      },
      "source": [
        "import sys, os\n",
        "if 'google.colab' in sys.modules and not os.path.exists('.setup_complete'):\n",
        "    !wget -q https://raw.githubusercontent.com/yandexdataschool/Practical_RL/coursera/week1_intro/primer/notmnist.py -O notmnist.py\n",
        "    !touch .setup_complete"
      ],
      "execution_count": 7,
      "outputs": []
    },
    {
      "cell_type": "code",
      "metadata": {
        "colab": {
          "base_uri": "https://localhost:8080/"
        },
        "id": "laFcjRrCToA5",
        "outputId": "e1570a1c-b2be-46e0-80d2-ac3806761832"
      },
      "source": [
        "import numpy as np\n",
        "import torch\n",
        "print(torch.__version__)"
      ],
      "execution_count": 8,
      "outputs": [
        {
          "output_type": "stream",
          "text": [
            "1.7.0+cu101\n"
          ],
          "name": "stdout"
        }
      ]
    },
    {
      "cell_type": "code",
      "metadata": {
        "colab": {
          "base_uri": "https://localhost:8080/"
        },
        "id": "_xSGrcwDToA9",
        "outputId": "ec33c692-26db-478b-ee46-f1677118f326"
      },
      "source": [
        "# numpy world\n",
        "\n",
        "x = np.arange(16).reshape(4, 4)\n",
        "\n",
        "print(\"X:\\n%s\\n\" % x)\n",
        "print(\"X.shape: %s\\n\" % (x.shape,))\n",
        "print(\"add 5:\\n%s\\n\" % (x + 5))\n",
        "print(\"X*X^T:\\n%s\\n\" % np.dot(x, x.T))\n",
        "print(\"mean over rows:\\n%s\\n\" % (x.mean(axis=-1)))\n",
        "print(\"cumsum of cols:\\n%s\\n\" % (np.cumsum(x, axis=0)))"
      ],
      "execution_count": 9,
      "outputs": [
        {
          "output_type": "stream",
          "text": [
            "X:\n",
            "[[ 0  1  2  3]\n",
            " [ 4  5  6  7]\n",
            " [ 8  9 10 11]\n",
            " [12 13 14 15]]\n",
            "\n",
            "X.shape: (4, 4)\n",
            "\n",
            "add 5:\n",
            "[[ 5  6  7  8]\n",
            " [ 9 10 11 12]\n",
            " [13 14 15 16]\n",
            " [17 18 19 20]]\n",
            "\n",
            "X*X^T:\n",
            "[[ 14  38  62  86]\n",
            " [ 38 126 214 302]\n",
            " [ 62 214 366 518]\n",
            " [ 86 302 518 734]]\n",
            "\n",
            "mean over rows:\n",
            "[ 1.5  5.5  9.5 13.5]\n",
            "\n",
            "cumsum of cols:\n",
            "[[ 0  1  2  3]\n",
            " [ 4  6  8 10]\n",
            " [12 15 18 21]\n",
            " [24 28 32 36]]\n",
            "\n"
          ],
          "name": "stdout"
        }
      ]
    },
    {
      "cell_type": "code",
      "metadata": {
        "colab": {
          "base_uri": "https://localhost:8080/"
        },
        "id": "Wdu3W6WwToA-",
        "outputId": "18881020-71ac-4df4-9791-799d08f775b8"
      },
      "source": [
        "# PyTorch world\n",
        "\n",
        "x = np.arange(16).reshape(4, 4)\n",
        "\n",
        "x = torch.tensor(x, dtype=torch.float32)  # or torch.arange(0, 16).view(4, 4)\n",
        "\n",
        "print(\"X:\\n%s\" % x)\n",
        "print(\"X.shape: %s\\n\" % (x.shape,))\n",
        "print(\"add 5:\\n%s\" % (x + 5))\n",
        "print(\"X*X^T:\\n%s\" % torch.matmul(x, x.transpose(1, 0)))  # short: x.mm(x.t())\n",
        "print(\"mean over rows:\\n%s\" % torch.mean(x, dim=-1))\n",
        "print(\"cumsum of cols:\\n%s\" % torch.cumsum(x, dim=0))"
      ],
      "execution_count": 10,
      "outputs": [
        {
          "output_type": "stream",
          "text": [
            "X:\n",
            "tensor([[ 0.,  1.,  2.,  3.],\n",
            "        [ 4.,  5.,  6.,  7.],\n",
            "        [ 8.,  9., 10., 11.],\n",
            "        [12., 13., 14., 15.]])\n",
            "X.shape: torch.Size([4, 4])\n",
            "\n",
            "add 5:\n",
            "tensor([[ 5.,  6.,  7.,  8.],\n",
            "        [ 9., 10., 11., 12.],\n",
            "        [13., 14., 15., 16.],\n",
            "        [17., 18., 19., 20.]])\n",
            "X*X^T:\n",
            "tensor([[ 14.,  38.,  62.,  86.],\n",
            "        [ 38., 126., 214., 302.],\n",
            "        [ 62., 214., 366., 518.],\n",
            "        [ 86., 302., 518., 734.]])\n",
            "mean over rows:\n",
            "tensor([ 1.5000,  5.5000,  9.5000, 13.5000])\n",
            "cumsum of cols:\n",
            "tensor([[ 0.,  1.,  2.,  3.],\n",
            "        [ 4.,  6.,  8., 10.],\n",
            "        [12., 15., 18., 21.],\n",
            "        [24., 28., 32., 36.]])\n"
          ],
          "name": "stdout"
        }
      ]
    },
    {
      "cell_type": "markdown",
      "metadata": {
        "id": "6QxNImxHToA_"
      },
      "source": [
        "## NumPy and PyTorch\n",
        "\n",
        "As you can notice, PyTorch allows you to hack stuff much the same way you did with NumPy. No graph declaration, no placeholders, no sessions. This means that you can _see the numeric value of any tensor at any moment of time_. Debugging such code can be done with by printing tensors or using any debug tool you want (e.g. [PyCharm debugger](https://www.jetbrains.com/help/pycharm/part-1-debugging-python-code.html) or [gdb](https://wiki.python.org/moin/DebuggingWithGdb)).\n",
        "\n",
        "You could also notice the a few new method names and a different API. So no, there's no compatibility with NumPy [yet](https://github.com/pytorch/pytorch/issues/2228) and yes, you'll have to memorize all the names again. Get excited!\n",
        "\n",
        "![img](http://i0.kym-cdn.com/entries/icons/original/000/017/886/download.jpg)\n",
        "\n",
        "For example, \n",
        "* If something takes a list/tuple of axes in NumPy, you can expect it to take `*args` in PyTorch\n",
        " * `x.reshape([1,2,8]) -> x.view(1,2,8)`\n",
        "* You should swap `axis` for `dim` in operations like `mean` or `cumsum`\n",
        " * `x.sum(axis=-1) -> x.sum(dim=-1)`\n",
        "* Most mathematical operations are the same, but types an shaping is different\n",
        " * `x.astype('int64') -> x.type(torch.LongTensor)`\n",
        "\n",
        "To help you acclimatize, there's a [table](https://github.com/torch/torch7/wiki/Torch-for-NumPy-users) covering most new things. There's also a neat [documentation page](http://pytorch.org/docs/master/).\n",
        "\n",
        "Finally, if you're stuck with a technical problem, we recommend searching [PyTorch forums](https://discuss.pytorch.org/). Or just googling, which usually works just as efficiently. \n",
        "\n",
        "If you feel like you almost give up, remember two things: __GPU__ and __free gradients__. Besides you can always jump back to NumPy with `x.numpy()`."
      ]
    },
    {
      "cell_type": "markdown",
      "metadata": {
        "id": "qXj8d6EgToBA"
      },
      "source": [
        "### Warmup: trigonometric knotwork\n",
        "_inspired by [this post](https://www.quora.com/What-are-the-most-interesting-equation-plots)_\n",
        "\n",
        "There are some simple mathematical functions with cool plots. For one, consider this:\n",
        "\n",
        "$$ x(t) = t - 1.5 * cos(15 t) $$\n",
        "$$ y(t) = t - 1.5 * sin(16 t) $$"
      ]
    },
    {
      "cell_type": "code",
      "metadata": {
        "colab": {
          "base_uri": "https://localhost:8080/",
          "height": 282
        },
        "id": "bwNViad7ToBB",
        "outputId": "7daeb5ed-31db-4179-e507-a44d50b3cf3d"
      },
      "source": [
        "import matplotlib.pyplot as plt\n",
        "%matplotlib inline\n",
        "\n",
        "t = torch.linspace(-10, 10, steps=10000)\n",
        "\n",
        "# compute x(t) and y(t) as defined above\n",
        "x = t - 1.5*torch.cos(15*t)\n",
        "y = t - 1.5*torch.sin(16*t)\n",
        "\n",
        "plt.plot(x.numpy(), y.numpy())"
      ],
      "execution_count": 11,
      "outputs": [
        {
          "output_type": "execute_result",
          "data": {
            "text/plain": [
              "[<matplotlib.lines.Line2D at 0x7fb33cc8e160>]"
            ]
          },
          "metadata": {
            "tags": []
          },
          "execution_count": 11
        },
        {
          "output_type": "display_data",
          "data": {
            "image/png": "[encoded data removed]",
            "text/plain": [
              "<Figure size 432x288 with 1 Axes>"
            ]
          },
          "metadata": {
            "tags": [],
            "needs_background": "light"
          }
        }
      ]
    },
    {
      "cell_type": "markdown",
      "metadata": {
        "id": "nU9rXwLnToBB"
      },
      "source": [
        "If you're done early, try adjusting the formula and seeing how it affects the function."
      ]
    },
    {
      "cell_type": "markdown",
      "metadata": {
        "id": "SKqM8Pu1ToBC"
      },
      "source": [
        "---"
      ]
    },
    {
      "cell_type": "markdown",
      "metadata": {
        "id": "JpcbRUXqToBC"
      },
      "source": [
        "## Automatic gradients\n",
        "\n",
        "Any self-respecting DL framework must do your backprop for you. Torch handles this with the `autograd` module.\n",
        "\n",
        "The general pipeline looks like this:\n",
        "* When creating a tensor, you mark it as `requires_grad`:\n",
        "    * `torch.zeros(5, requires_grad=True)`\n",
        "    * `torch.tensor(np.arange(5), dtype=torch.float32, requires_grad=True)`\n",
        "* Define some differentiable `loss = arbitrary_function(a)`\n",
        "* Call `loss.backward()`\n",
        "* Gradients are now available as ```a.grad```\n",
        "\n",
        "__Here's an example:__ let's fit a linear regression on Boston house prices."
      ]
    },
    {
      "cell_type": "code",
      "metadata": {
        "id": "kEvgdRX-sen2"
      },
      "source": [
        "from sklearn.datasets import load_boston\r\n",
        "boston = load_boston()"
      ],
      "execution_count": 12,
      "outputs": []
    },
    {
      "cell_type": "code",
      "metadata": {
        "colab": {
          "base_uri": "https://localhost:8080/"
        },
        "id": "Z8VbRTH1sfrG",
        "outputId": "6db391b6-d70a-4b63-e418-38167632d377"
      },
      "source": [
        "print(boston.DESCR)"
      ],
      "execution_count": 13,
      "outputs": [
        {
          "output_type": "stream",
          "text": [
            ".. _boston_dataset:\n",
            "\n",
            "Boston house prices dataset\n",
            "---------------------------\n",
            "\n",
            "**Data Set Characteristics:**  \n",
            "\n",
            "    :Number of Instances: 506 \n",
            "\n",
            "    :Number of Attributes: 13 numeric/categorical predictive. Median Value (attribute 14) is usually the target.\n",
            "\n",
            "    :Attribute Information (in order):\n",
            "        - CRIM     per capita crime rate by town\n",
            "        - ZN       proportion of residential land zoned for lots over 25,000 sq.ft.\n",
            "        - INDUS    proportion of non-retail business acres per town\n",
            "        - CHAS     Charles River dummy variable (= 1 if tract bounds river; 0 otherwise)\n",
            "        - NOX      nitric oxides concentration (parts per 10 million)\n",
            "        - RM       average number of rooms per dwelling\n",
            "        - AGE      proportion of owner-occupied units built prior to 1940\n",
            "        - DIS      weighted distances to five Boston employment centres\n",
            "        - RAD      index of accessibility to radial highways\n",
            "        - TAX      full-value property-tax rate per $10,000\n",
            "        - PTRATIO  pupil-teacher ratio by town\n",
            "        - B        1000(Bk - 0.63)^2 where Bk is the proportion of blacks by town\n",
            "        - LSTAT    % lower status of the population\n",
            "        - MEDV     Median value of owner-occupied homes in $1000's\n",
            "\n",
            "    :Missing Attribute Values: None\n",
            "\n",
            "    :Creator: Harrison, D. and Rubinfeld, D.L.\n",
            "\n",
            "This is a copy of UCI ML housing dataset.\n",
            "https://archive.ics.uci.edu/ml/machine-learning-databases/housing/\n",
            "\n",
            "\n",
            "This dataset was taken from the StatLib library which is maintained at Carnegie Mellon University.\n",
            "\n",
            "The Boston house-price data of Harrison, D. and Rubinfeld, D.L. 'Hedonic\n",
            "prices and the demand for clean air', J. Environ. Economics & Management,\n",
            "vol.5, 81-102, 1978.   Used in Belsley, Kuh & Welsch, 'Regression diagnostics\n",
            "...', Wiley, 1980.   N.B. Various transformations are used in the table on\n",
            "pages 244-261 of the latter.\n",
            "\n",
            "The Boston house-price data has been used in many machine learning papers that address regression\n",
            "problems.   \n",
            "     \n",
            ".. topic:: References\n",
            "\n",
            "   - Belsley, Kuh & Welsch, 'Regression diagnostics: Identifying Influential Data and Sources of Collinearity', Wiley, 1980. 244-261.\n",
            "   - Quinlan,R. (1993). Combining Instance-Based and Model-Based Learning. In Proceedings on the Tenth International Conference of Machine Learning, 236-243, University of Massachusetts, Amherst. Morgan Kaufmann.\n",
            "\n"
          ],
          "name": "stdout"
        }
      ]
    },
    {
      "cell_type": "code",
      "metadata": {
        "colab": {
          "base_uri": "https://localhost:8080/"
        },
        "id": "v4z5B81RstGM",
        "outputId": "25a676bf-d4b9-4579-ad0e-6e7f06d02cef"
      },
      "source": [
        "boston.data[:, -1]"
      ],
      "execution_count": 14,
      "outputs": [
        {
          "output_type": "execute_result",
          "data": {
            "text/plain": [
              "array([ 4.98,  9.14,  4.03,  2.94,  5.33,  5.21, 12.43, 19.15, 29.93,\n",
              "       17.1 , 20.45, 13.27, 15.71,  8.26, 10.26,  8.47,  6.58, 14.67,\n",
              "       11.69, 11.28, 21.02, 13.83, 18.72, 19.88, 16.3 , 16.51, 14.81,\n",
              "       17.28, 12.8 , 11.98, 22.6 , 13.04, 27.71, 18.35, 20.34,  9.68,\n",
              "       11.41,  8.77, 10.13,  4.32,  1.98,  4.84,  5.81,  7.44,  9.55,\n",
              "       10.21, 14.15, 18.8 , 30.81, 16.2 , 13.45,  9.43,  5.28,  8.43,\n",
              "       14.8 ,  4.81,  5.77,  3.95,  6.86,  9.22, 13.15, 14.44,  6.73,\n",
              "        9.5 ,  8.05,  4.67, 10.24,  8.1 , 13.09,  8.79,  6.72,  9.88,\n",
              "        5.52,  7.54,  6.78,  8.94, 11.97, 10.27, 12.34,  9.1 ,  5.29,\n",
              "        7.22,  6.72,  7.51,  9.62,  6.53, 12.86,  8.44,  5.5 ,  5.7 ,\n",
              "        8.81,  8.2 ,  8.16,  6.21, 10.59,  6.65, 11.34,  4.21,  3.57,\n",
              "        6.19,  9.42,  7.67, 10.63, 13.44, 12.33, 16.47, 18.66, 14.09,\n",
              "       12.27, 15.55, 13.  , 10.16, 16.21, 17.09, 10.45, 15.76, 12.04,\n",
              "       10.3 , 15.37, 13.61, 14.37, 14.27, 17.93, 25.41, 17.58, 14.81,\n",
              "       27.26, 17.19, 15.39, 18.34, 12.6 , 12.26, 11.12, 15.03, 17.31,\n",
              "       16.96, 16.9 , 14.59, 21.32, 18.46, 24.16, 34.41, 26.82, 26.42,\n",
              "       29.29, 27.8 , 16.65, 29.53, 28.32, 21.45, 14.1 , 13.28, 12.12,\n",
              "       15.79, 15.12, 15.02, 16.14,  4.59,  6.43,  7.39,  5.5 ,  1.73,\n",
              "        1.92,  3.32, 11.64,  9.81,  3.7 , 12.14, 11.1 , 11.32, 14.43,\n",
              "       12.03, 14.69,  9.04,  9.64,  5.33, 10.11,  6.29,  6.92,  5.04,\n",
              "        7.56,  9.45,  4.82,  5.68, 13.98, 13.15,  4.45,  6.68,  4.56,\n",
              "        5.39,  5.1 ,  4.69,  2.87,  5.03,  4.38,  2.97,  4.08,  8.61,\n",
              "        6.62,  4.56,  4.45,  7.43,  3.11,  3.81,  2.88, 10.87, 10.97,\n",
              "       18.06, 14.66, 23.09, 17.27, 23.98, 16.03,  9.38, 29.55,  9.47,\n",
              "       13.51,  9.69, 17.92, 10.5 ,  9.71, 21.46,  9.93,  7.6 ,  4.14,\n",
              "        4.63,  3.13,  6.36,  3.92,  3.76, 11.65,  5.25,  2.47,  3.95,\n",
              "        8.05, 10.88,  9.54,  4.73,  6.36,  7.37, 11.38, 12.4 , 11.22,\n",
              "        5.19, 12.5 , 18.46,  9.16, 10.15,  9.52,  6.56,  5.9 ,  3.59,\n",
              "        3.53,  3.54,  6.57,  9.25,  3.11,  5.12,  7.79,  6.9 ,  9.59,\n",
              "        7.26,  5.91, 11.25,  8.1 , 10.45, 14.79,  7.44,  3.16, 13.65,\n",
              "       13.  ,  6.59,  7.73,  6.58,  3.53,  2.98,  6.05,  4.16,  7.19,\n",
              "        4.85,  3.76,  4.59,  3.01,  3.16,  7.85,  8.23, 12.93,  7.14,\n",
              "        7.6 ,  9.51,  3.33,  3.56,  4.7 ,  8.58, 10.4 ,  6.27,  7.39,\n",
              "       15.84,  4.97,  4.74,  6.07,  9.5 ,  8.67,  4.86,  6.93,  8.93,\n",
              "        6.47,  7.53,  4.54,  9.97, 12.64,  5.98, 11.72,  7.9 ,  9.28,\n",
              "       11.5 , 18.33, 15.94, 10.36, 12.73,  7.2 ,  6.87,  7.7 , 11.74,\n",
              "        6.12,  5.08,  6.15, 12.79,  9.97,  7.34,  9.09, 12.43,  7.83,\n",
              "        5.68,  6.75,  8.01,  9.8 , 10.56,  8.51,  9.74,  9.29,  5.49,\n",
              "        8.65,  7.18,  4.61, 10.53, 12.67,  6.36,  5.99,  5.89,  5.98,\n",
              "        5.49,  7.79,  4.5 ,  8.05,  5.57, 17.6 , 13.27, 11.48, 12.67,\n",
              "        7.79, 14.19, 10.19, 14.64,  5.29,  7.12, 14.  , 13.33,  3.26,\n",
              "        3.73,  2.96,  9.53,  8.88, 34.77, 37.97, 13.44, 23.24, 21.24,\n",
              "       23.69, 21.78, 17.21, 21.08, 23.6 , 24.56, 30.63, 30.81, 28.28,\n",
              "       31.99, 30.62, 20.85, 17.11, 18.76, 25.68, 15.17, 16.35, 17.12,\n",
              "       19.37, 19.92, 30.59, 29.97, 26.77, 20.32, 20.31, 19.77, 27.38,\n",
              "       22.98, 23.34, 12.13, 26.4 , 19.78, 10.11, 21.22, 34.37, 20.08,\n",
              "       36.98, 29.05, 25.79, 26.64, 20.62, 22.74, 15.02, 15.7 , 14.1 ,\n",
              "       23.29, 17.16, 24.39, 15.69, 14.52, 21.52, 24.08, 17.64, 19.69,\n",
              "       12.03, 16.22, 15.17, 23.27, 18.05, 26.45, 34.02, 22.88, 22.11,\n",
              "       19.52, 16.59, 18.85, 23.79, 23.98, 17.79, 16.44, 18.13, 19.31,\n",
              "       17.44, 17.73, 17.27, 16.74, 18.71, 18.13, 19.01, 16.94, 16.23,\n",
              "       14.7 , 16.42, 14.65, 13.99, 10.29, 13.22, 14.13, 17.15, 21.32,\n",
              "       18.13, 14.76, 16.29, 12.87, 14.36, 11.66, 18.14, 24.1 , 18.68,\n",
              "       24.91, 18.03, 13.11, 10.74,  7.74,  7.01, 10.42, 13.34, 10.58,\n",
              "       14.98, 11.45, 18.06, 23.97, 29.68, 18.07, 13.35, 12.01, 13.59,\n",
              "       17.6 , 21.14, 14.1 , 12.92, 15.1 , 14.33,  9.67,  9.08,  5.64,\n",
              "        6.48,  7.88])"
            ]
          },
          "metadata": {
            "tags": []
          },
          "execution_count": 14
        }
      ]
    },
    {
      "cell_type": "code",
      "metadata": {
        "colab": {
          "base_uri": "https://localhost:8080/"
        },
        "id": "q9-6_KYwszGi",
        "outputId": "6b8b62a3-0523-4547-af73-037bc4c8bb78"
      },
      "source": [
        "boston.data[0]"
      ],
      "execution_count": 15,
      "outputs": [
        {
          "output_type": "execute_result",
          "data": {
            "text/plain": [
              "array([6.320e-03, 1.800e+01, 2.310e+00, 0.000e+00, 5.380e-01, 6.575e+00,\n",
              "       6.520e+01, 4.090e+00, 1.000e+00, 2.960e+02, 1.530e+01, 3.969e+02,\n",
              "       4.980e+00])"
            ]
          },
          "metadata": {
            "tags": []
          },
          "execution_count": 15
        }
      ]
    },
    {
      "cell_type": "code",
      "metadata": {
        "colab": {
          "base_uri": "https://localhost:8080/",
          "height": 282
        },
        "id": "h8s8rfnPToBD",
        "outputId": "13fd24cb-13ba-4a2a-a2b2-1aa11650e376"
      },
      "source": [
        "from sklearn.datasets import load_boston\n",
        "boston = load_boston()\n",
        "plt.scatter(boston.data[:, -1], boston.target)"
      ],
      "execution_count": 16,
      "outputs": [
        {
          "output_type": "execute_result",
          "data": {
            "text/plain": [
              "<matplotlib.collections.PathCollection at 0x7fb330d135c0>"
            ]
          },
          "metadata": {
            "tags": []
          },
          "execution_count": 16
        },
        {
          "output_type": "display_data",
          "data": {
            "image/png": "[encoded data removed]",
            "text/plain": [
              "<Figure size 432x288 with 1 Axes>"
            ]
          },
          "metadata": {
            "tags": [],
            "needs_background": "light"
          }
        }
      ]
    },
    {
      "cell_type": "code",
      "metadata": {
        "id": "5ltICjPyToBD"
      },
      "source": [
        "w = torch.zeros(1, requires_grad=True)\n",
        "b = torch.zeros(1, requires_grad=True)\n",
        "\n",
        "x = torch.tensor(boston.data[:, -1] / 10, dtype=torch.float32)\n",
        "y = torch.tensor(boston.target, dtype=torch.float32)"
      ],
      "execution_count": 17,
      "outputs": []
    },
    {
      "cell_type": "code",
      "metadata": {
        "id": "SI1c0Pj6ToBE"
      },
      "source": [
        "y_pred = w * x + b\n",
        "loss = torch.mean((y_pred - y)**2)\n",
        "\n",
        "# propagate gradients\n",
        "loss.backward()"
      ],
      "execution_count": 18,
      "outputs": []
    },
    {
      "cell_type": "markdown",
      "metadata": {
        "id": "lYM1TugaToBE"
      },
      "source": [
        "The gradients are now stored in `.grad` of those variables that require them."
      ]
    },
    {
      "cell_type": "code",
      "metadata": {
        "colab": {
          "base_uri": "https://localhost:8080/"
        },
        "id": "pTREBa8HToBF",
        "outputId": "11cdbf5c-047e-49df-c0ba-a514a5899f8f"
      },
      "source": [
        "print(\"dL/dw = \\n\", w.grad)\n",
        "print(\"dL/db = \\n\", b.grad)"
      ],
      "execution_count": 19,
      "outputs": [
        {
          "output_type": "stream",
          "text": [
            "dL/dw = \n",
            " tensor([-47.3514])\n",
            "dL/db = \n",
            " tensor([-45.0656])\n"
          ],
          "name": "stdout"
        }
      ]
    },
    {
      "cell_type": "markdown",
      "metadata": {
        "id": "_pxhRw5z0ZeB"
      },
      "source": [
        "**My notes**\r\n",
        "\r\n",
        "How this number appeared in the first iteration?\r\n",
        "\r\n",
        "Our loss function is expressed as above:\r\n",
        "\r\n",
        "$LOSS = \\frac{1}{n}\\sum_{i=1}^{n} \\left( y_{i}^{pred} - y_{i}\\right)^2$, so basically is Mean Squared Error - the difference between, what was predicted for observation number $i$ and what was a real value, then this difference is squared and the average is calculated.\r\n",
        "\r\n",
        "We want to find parameters $w$ and $b$ for the regression which minimiize this loss function.\r\n",
        "\r\n",
        "Therefore we will represent this function as a function of parameters $w$ and $b$ as following:\r\n",
        "\r\n",
        "$LOSS(w,b) = \\frac{1}{n}\\sum_{i=1}^{n} \\left( w*x_{i} + b - y_{i}\\right)^2$, we just substituted prediction with a equation for linear regression model $y_{i}^{pred} = w*x_i + b$.\r\n",
        "\r\n",
        "As we use gradient descent method, then we need to calculate gradient in both directions $w$ and $b$ (by calculating partial derivatives). \r\n",
        "\r\n",
        "$\\frac{\\partial LOSS}{\\partial w} = \\frac{2}{n} \\sum_{i=1}^{n} \\left(w*x_i + b - y_i \\right)*x_i$\r\n",
        "\r\n",
        "$\\frac{\\partial LOSS}{\\partial b} = \\frac{2}{n} \\sum_{i=1}^{n} \\left(w*x_i + b - y_i \\right)$\r\n",
        "\r\n",
        "If we use vector notation and we denote $ \\mathbf{x} = \\left[ x_1, x_2, \\dots, x_n \\right]$, we obtain:\r\n",
        "\r\n",
        "$\\frac{\\partial LOSS}{\\partial w} = \\frac{2}{n} (w*\\mathbf{x} + b)\\mathbf{x}^T$\r\n",
        "\r\n",
        "$\\frac{\\partial LOSS}{\\partial b} = \\frac{2}{n} (w*\\mathbf{x} + b)\\mathbf{1}^T$\r\n",
        "\r\n",
        "Then, in the first iteration, when we use $w=0$ and $b=0$ we get these values.\r\n",
        "\r\n"
      ]
    },
    {
      "cell_type": "code",
      "metadata": {
        "colab": {
          "base_uri": "https://localhost:8080/"
        },
        "id": "tprbBtYiB4vG",
        "outputId": "b0ab018d-46f2-4e39-de91-a880583d9cfc"
      },
      "source": [
        "print(torch.matmul((w*x+b-y), x)*2/506) #matmul is dot product in pytorch\r\n",
        "print(torch.matmul((w*x+b-y), torch.ones(x.size()))*2/506)"
      ],
      "execution_count": 20,
      "outputs": [
        {
          "output_type": "stream",
          "text": [
            "tensor(-47.3514, grad_fn=<DivBackward0>)\n",
            "tensor(-45.0656, grad_fn=<DivBackward0>)\n"
          ],
          "name": "stdout"
        }
      ]
    },
    {
      "cell_type": "markdown",
      "metadata": {
        "id": "QaOG6LqmToBF"
      },
      "source": [
        "If you compute gradient from multiple losses, the gradients will add up at variables, therefore it's useful to __zero the gradients__ between iteratons."
      ]
    },
    {
      "cell_type": "code",
      "metadata": {
        "colab": {
          "base_uri": "https://localhost:8080/",
          "height": 282
        },
        "id": "gzugiF3yToBG",
        "outputId": "1230e746-48d9-4ad9-cf01-0633b55ec175"
      },
      "source": [
        "from IPython.display import clear_output\n",
        "\n",
        "w = torch.zeros(1, requires_grad=True)\n",
        "b = torch.zeros(1, requires_grad=True)\n",
        "\n",
        "x = torch.tensor(boston.data[:, -1] / 10, dtype=torch.float32)\n",
        "y = torch.tensor(boston.target, dtype=torch.float32)\n",
        "\n",
        "for i in range(100):\n",
        "    y_pred = w * x + b\n",
        "    loss = torch.mean((y_pred - y)**2)\n",
        "    loss.backward()\n",
        "\n",
        "    w.data -= 0.05 * w.grad.data\n",
        "    b.data -= 0.05 * b.grad.data\n",
        "\n",
        "    # zero gradients\n",
        "    w.grad.data.zero_()\n",
        "    b.grad.data.zero_()\n",
        "\n",
        "    # the rest of code is just bells and whistles\n",
        "    if (i + 1) % 5 == 0:\n",
        "        clear_output(True)\n",
        "        plt.scatter(x.detach().numpy(), y.detach().numpy())\n",
        "        plt.scatter(x.detach().numpy(), y_pred.detach().numpy(), color='orange', linewidth=5)\n",
        "        plt.show()\n",
        "\n",
        "        print(\"loss = \", loss.detach().numpy())\n",
        "        if loss.detach().numpy() < 0.5:\n",
        "            print(\"Done!\")\n",
        "            break"
      ],
      "execution_count": 63,
      "outputs": [
        {
          "output_type": "display_data",
          "data": {
            "image/png": "[encoded data removed]",
            "text/plain": [
              "<Figure size 432x288 with 1 Axes>"
            ]
          },
          "metadata": {
            "tags": [],
            "needs_background": "light"
          }
        },
        {
          "output_type": "stream",
          "text": [
            "loss =  44.815567\n"
          ],
          "name": "stdout"
        }
      ]
    },
    {
      "cell_type": "code",
      "metadata": {
        "colab": {
          "base_uri": "https://localhost:8080/"
        },
        "id": "WxLjYTpOLCiH",
        "outputId": "83468fb8-b549-40e4-f03a-ef1ffab7df57"
      },
      "source": [
        "loss"
      ],
      "execution_count": 64,
      "outputs": [
        {
          "output_type": "execute_result",
          "data": {
            "text/plain": [
              "tensor(44.8156, grad_fn=<MeanBackward0>)"
            ]
          },
          "metadata": {
            "tags": []
          },
          "execution_count": 64
        }
      ]
    },
    {
      "cell_type": "code",
      "metadata": {
        "colab": {
          "base_uri": "https://localhost:8080/"
        },
        "id": "99ZSjecQMS7h",
        "outputId": "d7481137-e604-4f94-d8cf-b8232f9af39e"
      },
      "source": [
        "w\r\n",
        "b"
      ],
      "execution_count": 66,
      "outputs": [
        {
          "output_type": "execute_result",
          "data": {
            "text/plain": [
              "tensor([29.5811], requires_grad=True)"
            ]
          },
          "metadata": {
            "tags": []
          },
          "execution_count": 66
        }
      ]
    },
    {
      "cell_type": "markdown",
      "metadata": {
        "id": "TCa3zyDiToBG"
      },
      "source": [
        "__Bonus quest__: try implementing and writing some nonlinear regression. You can try quadratic features or some trigonometry, or a simple neural network. The only difference is that now you have more variables and a more complicated `y_pred`. "
      ]
    },
    {
      "cell_type": "code",
      "metadata": {
        "colab": {
          "base_uri": "https://localhost:8080/",
          "height": 282
        },
        "id": "dinRFbF7NPSt",
        "outputId": "6739de1c-1d43-4e86-9f8c-4734c2c92800"
      },
      "source": [
        "# polynomial 6-degree ????\r\n",
        "\r\n",
        "from IPython.display import clear_output\r\n",
        "\r\n",
        "w1 = torch.tensor([-30.], requires_grad=True)\r\n",
        "w2 = torch.tensor([3.], requires_grad=True)\r\n",
        "w3 = torch.tensor([-10.], requires_grad=True)\r\n",
        "b = torch.tensor([50.], requires_grad=True)\r\n",
        "\r\n",
        "x = torch.tensor(boston.data[:, -1] / 10, dtype=torch.float32)\r\n",
        "y = torch.tensor(boston.target, dtype=torch.float32)\r\n",
        "\r\n",
        "for i in range(1000):\r\n",
        "    y_pred = w1 * x + w2 * x**2 + w3*x**3 + b\r\n",
        "    loss = torch.mean((y_pred - y)**2)\r\n",
        "    loss.backward()\r\n",
        "\r\n",
        "    w1.data -= 0.0001 * w1.grad.data\r\n",
        "    w2.data -= 0.0001 * w2.grad.data\r\n",
        "    w3.data -= 0.0001 * w3.grad.data\r\n",
        "    b.data -= 0.0001 * b.grad.data\r\n",
        "\r\n",
        "    # zero gradients\r\n",
        "    w1.grad.data.zero_()\r\n",
        "    w2.grad.data.zero_()\r\n",
        "    w3.grad.data.zero_()\r\n",
        "    b.grad.data.zero_()\r\n",
        "\r\n",
        "    # the rest of code is just bells and whistles\r\n",
        "    if (i + 1) % 5 == 0:\r\n",
        "        clear_output(True)\r\n",
        "        plt.scatter(x.detach().numpy(), y.detach().numpy())\r\n",
        "        plt.scatter(x.detach().numpy(), y_pred.detach().numpy(), color='orange', linewidth=5)\r\n",
        "        plt.show()\r\n",
        "\r\n",
        "        print(\"loss = \", loss.detach().numpy())\r\n",
        "        if loss.detach().numpy() < 0.5:\r\n",
        "            print(\"Done!\")\r\n",
        "            break"
      ],
      "execution_count": 41,
      "outputs": [
        {
          "output_type": "display_data",
          "data": {
            "image/png": "[encoded data removed]",
            "text/plain": [
              "<Figure size 432x288 with 1 Axes>"
            ]
          },
          "metadata": {
            "tags": [],
            "needs_background": "light"
          }
        },
        {
          "output_type": "stream",
          "text": [
            "loss =  39.756805\n"
          ],
          "name": "stdout"
        }
      ]
    },
    {
      "cell_type": "code",
      "metadata": {
        "colab": {
          "base_uri": "https://localhost:8080/"
        },
        "id": "IiPstfrWC47y",
        "outputId": "158d64f2-ba40-4f51-e6e5-931125674d8e"
      },
      "source": [
        "w1"
      ],
      "execution_count": 42,
      "outputs": [
        {
          "output_type": "execute_result",
          "data": {
            "text/plain": [
              "tensor([-29.0606], requires_grad=True)"
            ]
          },
          "metadata": {
            "tags": []
          },
          "execution_count": 42
        }
      ]
    },
    {
      "cell_type": "markdown",
      "metadata": {
        "id": "V-X6HVaGToBH"
      },
      "source": [
        "# High-level PyTorch\n",
        "\n",
        "So far we've been dealing with low-level PyTorch API. While it's absolutely vital for any custom losses or layers, building large neural nets in it is a bit clumsy.\n",
        "\n",
        "Luckily, there's also a high-level PyTorch interface with pre-defined layers, activations and training algorithms. \n",
        "\n",
        "We'll cover them as we go through a simple image recognition problem: classifying letters into __\"A\"__ vs __\"B\"__.\n"
      ]
    },
    {
      "cell_type": "code",
      "metadata": {
        "colab": {
          "base_uri": "https://localhost:8080/"
        },
        "id": "f1U9koO0DQa7",
        "outputId": "08706458-dc9a-420c-905a-ea9ebc08558c"
      },
      "source": [
        "from notmnist import load_notmnist\r\n",
        "X_train, y_train, X_test, y_test = load_notmnist(letters='AB')"
      ],
      "execution_count": 21,
      "outputs": [
        {
          "output_type": "stream",
          "text": [
            "Downloading data...\n",
            "Extracting ...\n",
            "Parsing...\n",
            "found broken img: ./notMNIST_small/A/RGVtb2NyYXRpY2FCb2xkT2xkc3R5bGUgQm9sZC50dGY=.png [it's ok if <10 images are broken]\n",
            "Done\n"
          ],
          "name": "stdout"
        }
      ]
    },
    {
      "cell_type": "code",
      "metadata": {
        "colab": {
          "base_uri": "https://localhost:8080/"
        },
        "id": "1E8THi9DX23d",
        "outputId": "14fedfb8-ae7e-4d8f-8104-5f2eb3730519"
      },
      "source": [
        "y_train"
      ],
      "execution_count": 39,
      "outputs": [
        {
          "output_type": "execute_result",
          "data": {
            "text/plain": [
              "array([1, 0, 0, ..., 0, 1, 1])"
            ]
          },
          "metadata": {
            "tags": []
          },
          "execution_count": 39
        }
      ]
    },
    {
      "cell_type": "code",
      "metadata": {
        "colab": {
          "base_uri": "https://localhost:8080/"
        },
        "id": "GEyNocF7DUoR",
        "outputId": "da8efed0-6fcd-48ca-d253-4e7a4313de42"
      },
      "source": [
        "X_train.shape"
      ],
      "execution_count": 22,
      "outputs": [
        {
          "output_type": "execute_result",
          "data": {
            "text/plain": [
              "(2808, 1, 28, 28)"
            ]
          },
          "metadata": {
            "tags": []
          },
          "execution_count": 22
        }
      ]
    },
    {
      "cell_type": "code",
      "metadata": {
        "colab": {
          "base_uri": "https://localhost:8080/"
        },
        "id": "pnt_KkskDwKk",
        "outputId": "9ba4ca43-5bb1-43ed-f2c3-94a7d8c30636"
      },
      "source": [
        "X_train[0]"
      ],
      "execution_count": 55,
      "outputs": [
        {
          "output_type": "execute_result",
          "data": {
            "text/plain": [
              "array([[[-0.0539398 , -0.19141579,  0.5131487 ,  1.2348976 ,\n",
              "          1.2091209 ,  1.2348976 ,  1.2348976 ,  1.2348976 ,\n",
              "          1.2263054 ,  1.2348976 ,  0.9943147 , -0.17423129,\n",
              "         -0.14845453, -0.14845453, -0.10549329,  0.08353619,\n",
              "          0.5045565 ,  0.88261545,  0.67640144,  0.38426498,\n",
              "         -0.0367553 , -0.5265135 , -0.90457255, -0.95612603,\n",
              "         -0.9475338 , -0.93894154, -0.95612603, -0.95612603],\n",
              "        [-0.9131648 , -0.95612603,  0.0319827 ,  1.2348976 ,\n",
              "          1.1919364 ,  1.2348976 ,  1.2348976 ,  1.2348976 ,\n",
              "          1.2177131 ,  1.2348976 ,  0.8396542 , -0.95612603,\n",
              "         -0.93894154, -0.95612603, -0.95612603, -0.9475338 ,\n",
              "         -0.95612603, -0.27733827,  1.0630527 ,  1.2348976 ,\n",
              "          1.2263054 ,  1.2177131 ,  0.83106196,  0.08353619,\n",
              "         -0.77568877, -0.95612603, -0.9303493 , -0.95612603],\n",
              "        [-0.88738805, -0.95612603,  0.04916719,  1.2348976 ,\n",
              "          1.1919364 ,  1.2348976 ,  1.2348976 ,  1.2348976 ,\n",
              "          1.2177131 ,  1.2348976 ,  0.8396542 , -0.95612603,\n",
              "         -0.9131648 , -0.9303493 , -0.9303493 , -0.9475338 ,\n",
              "         -0.92175704, -0.95612603, -0.04534755,  1.2348976 ,\n",
              "          1.2005286 ,  1.2348976 ,  1.2263054 ,  1.2348976 ,\n",
              "          0.9771302 , -0.36326078, -0.95612603, -0.9303493 ],\n",
              "        [-0.9131648 , -0.95612603,  0.0319827 ,  1.2348976 ,\n",
              "          1.1919364 ,  1.2348976 ,  1.2348976 ,  1.2348976 ,\n",
              "          1.2177131 ,  1.2348976 ,  0.8396542 , -0.95612603,\n",
              "         -0.93894154, -0.95612603, -0.95612603, -0.95612603,\n",
              "         -0.93894154, -0.95612603, -0.64680505,  1.1146061 ,\n",
              "          1.2348976 ,  1.2263054 ,  1.2091209 ,  1.2005286 ,\n",
              "          1.2348976 ,  1.1403829 , -0.40622202, -0.95612603],\n",
              "        [-0.9131648 , -0.95612603,  0.0319827 ,  1.2348976 ,\n",
              "          1.1919364 ,  1.2348976 ,  1.2348976 ,  1.2348976 ,\n",
              "          1.2177131 ,  1.2348976 ,  0.8396542 , -0.95612603,\n",
              "         -0.93894154, -0.95612603, -0.95612603, -0.95612603,\n",
              "         -0.95612603, -0.95612603, -0.8787958 ,  1.0286837 ,\n",
              "          1.2348976 ,  1.2263054 ,  1.2348976 ,  1.2348976 ,\n",
              "          1.1919364 ,  1.2348976 ,  0.7279549 , -0.95612603],\n",
              "        [-0.9131648 , -0.95612603,  0.0319827 ,  1.2348976 ,\n",
              "          1.1919364 ,  1.2348976 ,  1.2348976 ,  1.2348976 ,\n",
              "          1.2177131 ,  1.2348976 ,  0.8396542 , -0.95612603,\n",
              "         -0.93894154, -0.95612603, -0.95612603, -0.95612603,\n",
              "         -0.95612603, -0.95612603, -0.95612603,  1.0029069 ,\n",
              "          1.2348976 ,  1.2263054 ,  1.2348976 ,  1.2348976 ,\n",
              "          1.2263054 ,  1.2348976 ,  1.1489751 , -0.4491833 ],\n",
              "        [-0.9131648 , -0.95612603,  0.0319827 ,  1.2348976 ,\n",
              "          1.1919364 ,  1.2348976 ,  1.2348976 ,  1.2348976 ,\n",
              "          1.2177131 ,  1.2348976 ,  0.8396542 , -0.95612603,\n",
              "         -0.93894154, -0.95612603, -0.95612603, -0.95612603,\n",
              "         -0.95612603, -0.95612603, -0.95612603,  1.0029069 ,\n",
              "          1.2348976 ,  1.2263054 ,  1.2348976 ,  1.2348976 ,\n",
              "          1.2348976 ,  1.2091209 ,  1.2348976 , -0.21719253],\n",
              "        [-0.9131648 , -0.95612603,  0.0319827 ,  1.2348976 ,\n",
              "          1.1919364 ,  1.2348976 ,  1.2348976 ,  1.2348976 ,\n",
              "          1.2177131 ,  1.2348976 ,  0.8396542 , -0.95612603,\n",
              "         -0.93894154, -0.95612603, -0.95612603, -0.95612603,\n",
              "         -0.95612603, -0.95612603, -0.95612603,  1.0029069 ,\n",
              "          1.2348976 ,  1.2263054 ,  1.2348976 ,  1.2348976 ,\n",
              "          1.2348976 ,  1.2091209 ,  1.2348976 , -0.21719253],\n",
              "        [-0.9131648 , -0.95612603,  0.0319827 ,  1.2348976 ,\n",
              "          1.1919364 ,  1.2348976 ,  1.2348976 ,  1.2348976 ,\n",
              "          1.2177131 ,  1.2348976 ,  0.8396542 , -0.95612603,\n",
              "         -0.93894154, -0.95612603, -0.95612603, -0.95612603,\n",
              "         -0.95612603, -0.95612603, -0.9131648 ,  1.0200914 ,\n",
              "          1.2348976 ,  1.2263054 ,  1.2348976 ,  1.2348976 ,\n",
              "          1.2177131 ,  1.2348976 ,  1.0458682 , -0.57806706],\n",
              "        [-0.9131648 , -0.95612603,  0.0319827 ,  1.2348976 ,\n",
              "          1.1919364 ,  1.2348976 ,  1.2348976 ,  1.2348976 ,\n",
              "          1.2177131 ,  1.2348976 ,  0.8396542 , -0.95612603,\n",
              "         -0.93894154, -0.95612603, -0.95612603, -0.95612603,\n",
              "         -0.9475338 , -0.95612603, -0.77568877,  1.0716449 ,\n",
              "          1.2348976 ,  1.2263054 ,  1.2348976 ,  1.2177131 ,\n",
              "          1.1833441 ,  1.2348976 ,  0.34130374, -0.95612603],\n",
              "        [-0.9131648 , -0.95612603,  0.0319827 ,  1.2348976 ,\n",
              "          1.1919364 ,  1.2348976 ,  1.2348976 ,  1.2348976 ,\n",
              "          1.2177131 ,  1.2348976 ,  0.8396542 , -0.95612603,\n",
              "         -0.93894154, -0.95612603, -0.95612603, -0.95612603,\n",
              "         -0.9303493 , -0.95612603, -0.4319988 ,  1.1833441 ,\n",
              "          1.2348976 ,  1.2005286 ,  1.2091209 ,  1.2263054 ,\n",
              "          1.2348976 ,  0.6334402 , -0.8787958 , -0.95612603],\n",
              "        [-0.9131648 , -0.95612603,  0.0319827 ,  1.2348976 ,\n",
              "          1.1919364 ,  1.2348976 ,  1.2348976 ,  1.2348976 ,\n",
              "          1.2177131 ,  1.2348976 ,  0.8396542 , -0.95612603,\n",
              "         -0.9131648 , -0.9303493 , -0.9303493 , -0.93894154,\n",
              "         -0.92175704, -0.95612603,  0.21241999,  1.2348976 ,\n",
              "          1.2091209 ,  1.2263054 ,  1.2348976 ,  1.0716449 ,\n",
              "          0.08353619, -0.8959803 , -0.95612603, -0.9475338 ],\n",
              "        [-0.9131648 , -0.95612603,  0.0319827 ,  1.2348976 ,\n",
              "          1.1919364 ,  1.2348976 ,  1.2348976 ,  1.2348976 ,\n",
              "          1.2177131 ,  1.2348976 ,  0.8396542 , -0.95612603,\n",
              "         -0.93894154, -0.95612603, -0.95612603, -0.9475338 ,\n",
              "         -0.95612603, -0.08830879,  1.1919364 ,  1.2348976 ,\n",
              "          1.0716449 ,  0.6506247 , -0.0367553 , -0.7585043 ,\n",
              "         -0.95612603, -0.9303493 , -0.9475338 , -0.95612603],\n",
              "        [-0.9131648 , -0.95612603,  0.0319827 ,  1.2348976 ,\n",
              "          1.1919364 ,  1.2348976 ,  1.2348976 ,  1.2348976 ,\n",
              "          1.2177131 ,  1.2348976 ,  0.9857224 , -0.25156152,\n",
              "         -0.24296927, -0.20000803, -0.0539398 ,  0.32411924,\n",
              "          0.83106196,  0.81387746,  0.21241999, -0.38903752,\n",
              "         -0.85301906, -0.95612603, -0.95612603, -0.9475338 ,\n",
              "         -0.90457255, -0.9475338 , -0.95612603, -0.95612603],\n",
              "        [-0.9131648 , -0.95612603,  0.0319827 ,  1.2348976 ,\n",
              "          1.1919364 ,  1.2348976 ,  1.2348976 ,  1.2348976 ,\n",
              "          1.2177131 ,  1.2348976 ,  0.8912077 , -0.7670965 ,\n",
              "         -0.6897663 , -0.6725818 , -0.5522903 , -0.34607628,\n",
              "         -0.04534755,  0.60766345,  1.0888294 ,  0.83106196,\n",
              "          0.5475177 ,  0.1608665 , -0.46636778, -0.8959803 ,\n",
              "         -0.95612603, -0.93894154, -0.9475338 , -0.95612603],\n",
              "        [-0.9131648 , -0.95612603,  0.0319827 ,  1.2348976 ,\n",
              "          1.1919364 ,  1.2348976 ,  1.2348976 ,  1.2348976 ,\n",
              "          1.2177131 ,  1.2348976 ,  0.8396542 , -0.95612603,\n",
              "         -0.93894154, -0.95612603, -0.95612603, -0.9475338 ,\n",
              "         -0.95612603, -0.8959803 ,  0.67640144,  1.2348976 ,\n",
              "          1.2091209 ,  1.2348976 ,  1.2348976 ,  0.79669297,\n",
              "         -0.20000803, -0.92175704, -0.9475338 , -0.93894154],\n",
              "        [-0.9131648 , -0.95612603,  0.0319827 ,  1.2348976 ,\n",
              "          1.1919364 ,  1.2348976 ,  1.2348976 ,  1.2348976 ,\n",
              "          1.2177131 ,  1.2348976 ,  0.8396542 , -0.95612603,\n",
              "         -0.9303493 , -0.9475338 , -0.9475338 , -0.9303493 ,\n",
              "         -0.90457255, -0.95612603, -0.33748403,  1.2005286 ,\n",
              "          1.2177131 ,  1.2005286 ,  1.2263054 ,  1.2263054 ,\n",
              "          1.2348976 ,  0.57329446, -0.77568877, -0.95612603],\n",
              "        [-0.9131648 , -0.95612603,  0.0319827 ,  1.2348976 ,\n",
              "          1.1919364 ,  1.2348976 ,  1.2348976 ,  1.2348976 ,\n",
              "          1.2177131 ,  1.2348976 ,  0.8396542 , -0.95612603,\n",
              "         -0.93894154, -0.95612603, -0.95612603, -0.95612603,\n",
              "         -0.9475338 , -0.95612603, -0.79287326,  1.0544604 ,\n",
              "          1.2348976 ,  1.2263054 ,  1.2348976 ,  1.2091209 ,\n",
              "          1.1919364 ,  1.2348976 ,  0.6849937 , -0.83583456],\n",
              "        [-0.9131648 , -0.95612603,  0.0319827 ,  1.2348976 ,\n",
              "          1.1919364 ,  1.2348976 ,  1.2348976 ,  1.2348976 ,\n",
              "          1.2177131 ,  1.2348976 ,  0.8396542 , -0.95612603,\n",
              "         -0.93894154, -0.95612603, -0.95612603, -0.95612603,\n",
              "         -0.95612603, -0.95612603, -0.9475338 ,  1.0114992 ,\n",
              "          1.2348976 ,  1.2263054 ,  1.2348976 ,  1.2348976 ,\n",
              "          1.2348976 ,  1.1747519 ,  1.2348976 ,  0.11790518],\n",
              "        [-0.9131648 , -0.95612603,  0.0319827 ,  1.2348976 ,\n",
              "          1.1919364 ,  1.2348976 ,  1.2348976 ,  1.2348976 ,\n",
              "          1.2177131 ,  1.2348976 ,  0.8396542 , -0.95612603,\n",
              "         -0.93894154, -0.95612603, -0.95612603, -0.95612603,\n",
              "         -0.95612603, -0.95612603, -0.95612603,  1.0029069 ,\n",
              "          1.2348976 ,  1.2263054 ,  1.2348976 ,  1.2348976 ,\n",
              "          1.2348976 ,  1.2263054 ,  1.2348976 ,  0.88261545],\n",
              "        [-0.9131648 , -0.95612603,  0.0319827 ,  1.2348976 ,\n",
              "          1.1919364 ,  1.2348976 ,  1.2348976 ,  1.2348976 ,\n",
              "          1.2177131 ,  1.2348976 ,  0.8396542 , -0.95612603,\n",
              "         -0.93894154, -0.95612603, -0.95612603, -0.95612603,\n",
              "         -0.95612603, -0.95612603, -0.95612603,  1.0029069 ,\n",
              "          1.2348976 ,  1.2263054 ,  1.2348976 ,  1.2348976 ,\n",
              "          1.2348976 ,  1.2348976 ,  1.2348976 ,  1.1575674 ],\n",
              "        [-0.9131648 , -0.95612603,  0.0319827 ,  1.2348976 ,\n",
              "          1.1919364 ,  1.2348976 ,  1.2348976 ,  1.2348976 ,\n",
              "          1.2177131 ,  1.2348976 ,  0.8396542 , -0.95612603,\n",
              "         -0.93894154, -0.95612603, -0.95612603, -0.95612603,\n",
              "         -0.95612603, -0.95612603, -0.95612603,  1.0029069 ,\n",
              "          1.2348976 ,  1.2263054 ,  1.2348976 ,  1.2348976 ,\n",
              "          1.2348976 ,  1.2348976 ,  1.2348976 ,  1.0200914 ],\n",
              "        [-0.9131648 , -0.95612603,  0.0319827 ,  1.2348976 ,\n",
              "          1.1919364 ,  1.2348976 ,  1.2348976 ,  1.2348976 ,\n",
              "          1.2177131 ,  1.2348976 ,  0.8396542 , -0.95612603,\n",
              "         -0.93894154, -0.95612603, -0.95612603, -0.95612603,\n",
              "         -0.95612603, -0.95612603, -0.9475338 ,  1.0114992 ,\n",
              "          1.2348976 ,  1.2263054 ,  1.2348976 ,  1.2348976 ,\n",
              "          1.2348976 ,  1.2091209 ,  1.2348976 ,  0.5303332 ],\n",
              "        [-0.9131648 , -0.95612603,  0.0319827 ,  1.2348976 ,\n",
              "          1.1919364 ,  1.2348976 ,  1.2348976 ,  1.2348976 ,\n",
              "          1.2177131 ,  1.2348976 ,  0.8396542 , -0.95612603,\n",
              "         -0.93894154, -0.95612603, -0.95612603, -0.95612603,\n",
              "         -0.9475338 , -0.95612603, -0.8272423 ,  1.0458682 ,\n",
              "          1.2348976 ,  1.2263054 ,  1.2348976 ,  1.2348976 ,\n",
              "          1.2177131 ,  1.2263054 ,  1.2091209 , -0.36326078],\n",
              "        [-0.9131648 , -0.95612603,  0.0319827 ,  1.2348976 ,\n",
              "          1.1919364 ,  1.2348976 ,  1.2348976 ,  1.2348976 ,\n",
              "          1.2177131 ,  1.2348976 ,  0.8396542 , -0.95612603,\n",
              "         -0.93894154, -0.95612603, -0.95612603, -0.95612603,\n",
              "         -0.9303493 , -0.95612603, -0.49214453,  1.1661596 ,\n",
              "          1.2348976 ,  1.2263054 ,  1.2177131 ,  1.2091209 ,\n",
              "          1.2177131 ,  1.2348976 ,  0.08353619, -0.95612603],\n",
              "        [-0.88738805, -0.95612603,  0.04916719,  1.2348976 ,\n",
              "          1.1919364 ,  1.2348976 ,  1.2348976 ,  1.2348976 ,\n",
              "          1.2177131 ,  1.2348976 ,  0.8396542 , -0.95612603,\n",
              "         -0.9131648 , -0.9303493 , -0.9303493 , -0.9475338 ,\n",
              "         -0.9303493 , -0.95612603,  0.19523549,  1.2348976 ,\n",
              "          1.1833441 ,  1.2263054 ,  1.2263054 ,  1.2348976 ,\n",
              "          1.0974216 , -0.0539398 , -0.95612603, -0.95612603],\n",
              "        [-0.9131648 , -0.95612603,  0.0319827 ,  1.2348976 ,\n",
              "          1.1919364 ,  1.2348976 ,  1.2348976 ,  1.2348976 ,\n",
              "          1.2177131 ,  1.2348976 ,  0.8396542 , -0.95612603,\n",
              "         -0.93894154, -0.95612603, -0.95612603, -0.95612603,\n",
              "         -0.87020355,  0.0319827 ,  1.2091209 ,  1.2348976 ,\n",
              "          1.2263054 ,  1.2348976 ,  0.9943147 ,  0.246789  ,\n",
              "         -0.66398954, -0.95612603, -0.9303493 , -0.95612603],\n",
              "        [ 0.04057495, -0.08830879,  0.5647022 ,  1.2348976 ,\n",
              "          1.2091209 ,  1.2348976 ,  1.2348976 ,  1.2348976 ,\n",
              "          1.2263054 ,  1.2348976 ,  1.0114992 , -0.09690104,\n",
              "         -0.07112429, -0.0367553 ,  0.07494394,  0.3327115 ,\n",
              "          0.7623239 ,  1.0544604 ,  0.8396542 ,  0.59047896,\n",
              "          0.2296045 , -0.3202995 , -0.79287326, -0.95612603,\n",
              "         -0.9475338 , -0.9303493 , -0.95612603, -0.95612603]]],\n",
              "      dtype=float32)"
            ]
          },
          "metadata": {
            "tags": []
          },
          "execution_count": 55
        }
      ]
    },
    {
      "cell_type": "code",
      "metadata": {
        "colab": {
          "base_uri": "https://localhost:8080/"
        },
        "id": "FJyUNKk9ToBH",
        "outputId": "cf46430c-2433-4930-a30a-2d143dcfd133"
      },
      "source": [
        "X_train, X_test = X_train.reshape([-1, 784]), X_test.reshape([-1, 784]) # size of an image is 28x28 = 784, so we map matrix of pixels to one dimension vector\n",
        "\n",
        "print(\"Train size = %i, test_size = %i\" % (len(X_train), len(X_test)))"
      ],
      "execution_count": 23,
      "outputs": [
        {
          "output_type": "stream",
          "text": [
            "Train size = 2808, test_size = 937\n"
          ],
          "name": "stdout"
        }
      ]
    },
    {
      "cell_type": "code",
      "metadata": {
        "colab": {
          "base_uri": "https://localhost:8080/"
        },
        "id": "-rvcXW0wyM5F",
        "outputId": "261429e6-a394-4609-9379-84bc2fba29e5"
      },
      "source": [
        "X_train[0]"
      ],
      "execution_count": 57,
      "outputs": [
        {
          "output_type": "execute_result",
          "data": {
            "text/plain": [
              "array([-0.0539398 , -0.19141579,  0.5131487 ,  1.2348976 ,  1.2091209 ,\n",
              "        1.2348976 ,  1.2348976 ,  1.2348976 ,  1.2263054 ,  1.2348976 ,\n",
              "        0.9943147 , -0.17423129, -0.14845453, -0.14845453, -0.10549329,\n",
              "        0.08353619,  0.5045565 ,  0.88261545,  0.67640144,  0.38426498,\n",
              "       -0.0367553 , -0.5265135 , -0.90457255, -0.95612603, -0.9475338 ,\n",
              "       -0.93894154, -0.95612603, -0.95612603, -0.9131648 , -0.95612603,\n",
              "        0.0319827 ,  1.2348976 ,  1.1919364 ,  1.2348976 ,  1.2348976 ,\n",
              "        1.2348976 ,  1.2177131 ,  1.2348976 ,  0.8396542 , -0.95612603,\n",
              "       -0.93894154, -0.95612603, -0.95612603, -0.9475338 , -0.95612603,\n",
              "       -0.27733827,  1.0630527 ,  1.2348976 ,  1.2263054 ,  1.2177131 ,\n",
              "        0.83106196,  0.08353619, -0.77568877, -0.95612603, -0.9303493 ,\n",
              "       -0.95612603, -0.88738805, -0.95612603,  0.04916719,  1.2348976 ,\n",
              "        1.1919364 ,  1.2348976 ,  1.2348976 ,  1.2348976 ,  1.2177131 ,\n",
              "        1.2348976 ,  0.8396542 , -0.95612603, -0.9131648 , -0.9303493 ,\n",
              "       -0.9303493 , -0.9475338 , -0.92175704, -0.95612603, -0.04534755,\n",
              "        1.2348976 ,  1.2005286 ,  1.2348976 ,  1.2263054 ,  1.2348976 ,\n",
              "        0.9771302 , -0.36326078, -0.95612603, -0.9303493 , -0.9131648 ,\n",
              "       -0.95612603,  0.0319827 ,  1.2348976 ,  1.1919364 ,  1.2348976 ,\n",
              "        1.2348976 ,  1.2348976 ,  1.2177131 ,  1.2348976 ,  0.8396542 ,\n",
              "       -0.95612603, -0.93894154, -0.95612603, -0.95612603, -0.95612603,\n",
              "       -0.93894154, -0.95612603, -0.64680505,  1.1146061 ,  1.2348976 ,\n",
              "        1.2263054 ,  1.2091209 ,  1.2005286 ,  1.2348976 ,  1.1403829 ,\n",
              "       -0.40622202, -0.95612603, -0.9131648 , -0.95612603,  0.0319827 ,\n",
              "        1.2348976 ,  1.1919364 ,  1.2348976 ,  1.2348976 ,  1.2348976 ,\n",
              "        1.2177131 ,  1.2348976 ,  0.8396542 , -0.95612603, -0.93894154,\n",
              "       -0.95612603, -0.95612603, -0.95612603, -0.95612603, -0.95612603,\n",
              "       -0.8787958 ,  1.0286837 ,  1.2348976 ,  1.2263054 ,  1.2348976 ,\n",
              "        1.2348976 ,  1.1919364 ,  1.2348976 ,  0.7279549 , -0.95612603,\n",
              "       -0.9131648 , -0.95612603,  0.0319827 ,  1.2348976 ,  1.1919364 ,\n",
              "        1.2348976 ,  1.2348976 ,  1.2348976 ,  1.2177131 ,  1.2348976 ,\n",
              "        0.8396542 , -0.95612603, -0.93894154, -0.95612603, -0.95612603,\n",
              "       -0.95612603, -0.95612603, -0.95612603, -0.95612603,  1.0029069 ,\n",
              "        1.2348976 ,  1.2263054 ,  1.2348976 ,  1.2348976 ,  1.2263054 ,\n",
              "        1.2348976 ,  1.1489751 , -0.4491833 , -0.9131648 , -0.95612603,\n",
              "        0.0319827 ,  1.2348976 ,  1.1919364 ,  1.2348976 ,  1.2348976 ,\n",
              "        1.2348976 ,  1.2177131 ,  1.2348976 ,  0.8396542 , -0.95612603,\n",
              "       -0.93894154, -0.95612603, -0.95612603, -0.95612603, -0.95612603,\n",
              "       -0.95612603, -0.95612603,  1.0029069 ,  1.2348976 ,  1.2263054 ,\n",
              "        1.2348976 ,  1.2348976 ,  1.2348976 ,  1.2091209 ,  1.2348976 ,\n",
              "       -0.21719253, -0.9131648 , -0.95612603,  0.0319827 ,  1.2348976 ,\n",
              "        1.1919364 ,  1.2348976 ,  1.2348976 ,  1.2348976 ,  1.2177131 ,\n",
              "        1.2348976 ,  0.8396542 , -0.95612603, -0.93894154, -0.95612603,\n",
              "       -0.95612603, -0.95612603, -0.95612603, -0.95612603, -0.95612603,\n",
              "        1.0029069 ,  1.2348976 ,  1.2263054 ,  1.2348976 ,  1.2348976 ,\n",
              "        1.2348976 ,  1.2091209 ,  1.2348976 , -0.21719253, -0.9131648 ,\n",
              "       -0.95612603,  0.0319827 ,  1.2348976 ,  1.1919364 ,  1.2348976 ,\n",
              "        1.2348976 ,  1.2348976 ,  1.2177131 ,  1.2348976 ,  0.8396542 ,\n",
              "       -0.95612603, -0.93894154, -0.95612603, -0.95612603, -0.95612603,\n",
              "       -0.95612603, -0.95612603, -0.9131648 ,  1.0200914 ,  1.2348976 ,\n",
              "        1.2263054 ,  1.2348976 ,  1.2348976 ,  1.2177131 ,  1.2348976 ,\n",
              "        1.0458682 , -0.57806706, -0.9131648 , -0.95612603,  0.0319827 ,\n",
              "        1.2348976 ,  1.1919364 ,  1.2348976 ,  1.2348976 ,  1.2348976 ,\n",
              "        1.2177131 ,  1.2348976 ,  0.8396542 , -0.95612603, -0.93894154,\n",
              "       -0.95612603, -0.95612603, -0.95612603, -0.9475338 , -0.95612603,\n",
              "       -0.77568877,  1.0716449 ,  1.2348976 ,  1.2263054 ,  1.2348976 ,\n",
              "        1.2177131 ,  1.1833441 ,  1.2348976 ,  0.34130374, -0.95612603,\n",
              "       -0.9131648 , -0.95612603,  0.0319827 ,  1.2348976 ,  1.1919364 ,\n",
              "        1.2348976 ,  1.2348976 ,  1.2348976 ,  1.2177131 ,  1.2348976 ,\n",
              "        0.8396542 , -0.95612603, -0.93894154, -0.95612603, -0.95612603,\n",
              "       -0.95612603, -0.9303493 , -0.95612603, -0.4319988 ,  1.1833441 ,\n",
              "        1.2348976 ,  1.2005286 ,  1.2091209 ,  1.2263054 ,  1.2348976 ,\n",
              "        0.6334402 , -0.8787958 , -0.95612603, -0.9131648 , -0.95612603,\n",
              "        0.0319827 ,  1.2348976 ,  1.1919364 ,  1.2348976 ,  1.2348976 ,\n",
              "        1.2348976 ,  1.2177131 ,  1.2348976 ,  0.8396542 , -0.95612603,\n",
              "       -0.9131648 , -0.9303493 , -0.9303493 , -0.93894154, -0.92175704,\n",
              "       -0.95612603,  0.21241999,  1.2348976 ,  1.2091209 ,  1.2263054 ,\n",
              "        1.2348976 ,  1.0716449 ,  0.08353619, -0.8959803 , -0.95612603,\n",
              "       -0.9475338 , -0.9131648 , -0.95612603,  0.0319827 ,  1.2348976 ,\n",
              "        1.1919364 ,  1.2348976 ,  1.2348976 ,  1.2348976 ,  1.2177131 ,\n",
              "        1.2348976 ,  0.8396542 , -0.95612603, -0.93894154, -0.95612603,\n",
              "       -0.95612603, -0.9475338 , -0.95612603, -0.08830879,  1.1919364 ,\n",
              "        1.2348976 ,  1.0716449 ,  0.6506247 , -0.0367553 , -0.7585043 ,\n",
              "       -0.95612603, -0.9303493 , -0.9475338 , -0.95612603, -0.9131648 ,\n",
              "       -0.95612603,  0.0319827 ,  1.2348976 ,  1.1919364 ,  1.2348976 ,\n",
              "        1.2348976 ,  1.2348976 ,  1.2177131 ,  1.2348976 ,  0.9857224 ,\n",
              "       -0.25156152, -0.24296927, -0.20000803, -0.0539398 ,  0.32411924,\n",
              "        0.83106196,  0.81387746,  0.21241999, -0.38903752, -0.85301906,\n",
              "       -0.95612603, -0.95612603, -0.9475338 , -0.90457255, -0.9475338 ,\n",
              "       -0.95612603, -0.95612603, -0.9131648 , -0.95612603,  0.0319827 ,\n",
              "        1.2348976 ,  1.1919364 ,  1.2348976 ,  1.2348976 ,  1.2348976 ,\n",
              "        1.2177131 ,  1.2348976 ,  0.8912077 , -0.7670965 , -0.6897663 ,\n",
              "       -0.6725818 , -0.5522903 , -0.34607628, -0.04534755,  0.60766345,\n",
              "        1.0888294 ,  0.83106196,  0.5475177 ,  0.1608665 , -0.46636778,\n",
              "       -0.8959803 , -0.95612603, -0.93894154, -0.9475338 , -0.95612603,\n",
              "       -0.9131648 , -0.95612603,  0.0319827 ,  1.2348976 ,  1.1919364 ,\n",
              "        1.2348976 ,  1.2348976 ,  1.2348976 ,  1.2177131 ,  1.2348976 ,\n",
              "        0.8396542 , -0.95612603, -0.93894154, -0.95612603, -0.95612603,\n",
              "       -0.9475338 , -0.95612603, -0.8959803 ,  0.67640144,  1.2348976 ,\n",
              "        1.2091209 ,  1.2348976 ,  1.2348976 ,  0.79669297, -0.20000803,\n",
              "       -0.92175704, -0.9475338 , -0.93894154, -0.9131648 , -0.95612603,\n",
              "        0.0319827 ,  1.2348976 ,  1.1919364 ,  1.2348976 ,  1.2348976 ,\n",
              "        1.2348976 ,  1.2177131 ,  1.2348976 ,  0.8396542 , -0.95612603,\n",
              "       -0.9303493 , -0.9475338 , -0.9475338 , -0.9303493 , -0.90457255,\n",
              "       -0.95612603, -0.33748403,  1.2005286 ,  1.2177131 ,  1.2005286 ,\n",
              "        1.2263054 ,  1.2263054 ,  1.2348976 ,  0.57329446, -0.77568877,\n",
              "       -0.95612603, -0.9131648 , -0.95612603,  0.0319827 ,  1.2348976 ,\n",
              "        1.1919364 ,  1.2348976 ,  1.2348976 ,  1.2348976 ,  1.2177131 ,\n",
              "        1.2348976 ,  0.8396542 , -0.95612603, -0.93894154, -0.95612603,\n",
              "       -0.95612603, -0.95612603, -0.9475338 , -0.95612603, -0.79287326,\n",
              "        1.0544604 ,  1.2348976 ,  1.2263054 ,  1.2348976 ,  1.2091209 ,\n",
              "        1.1919364 ,  1.2348976 ,  0.6849937 , -0.83583456, -0.9131648 ,\n",
              "       -0.95612603,  0.0319827 ,  1.2348976 ,  1.1919364 ,  1.2348976 ,\n",
              "        1.2348976 ,  1.2348976 ,  1.2177131 ,  1.2348976 ,  0.8396542 ,\n",
              "       -0.95612603, -0.93894154, -0.95612603, -0.95612603, -0.95612603,\n",
              "       -0.95612603, -0.95612603, -0.9475338 ,  1.0114992 ,  1.2348976 ,\n",
              "        1.2263054 ,  1.2348976 ,  1.2348976 ,  1.2348976 ,  1.1747519 ,\n",
              "        1.2348976 ,  0.11790518, -0.9131648 , -0.95612603,  0.0319827 ,\n",
              "        1.2348976 ,  1.1919364 ,  1.2348976 ,  1.2348976 ,  1.2348976 ,\n",
              "        1.2177131 ,  1.2348976 ,  0.8396542 , -0.95612603, -0.93894154,\n",
              "       -0.95612603, -0.95612603, -0.95612603, -0.95612603, -0.95612603,\n",
              "       -0.95612603,  1.0029069 ,  1.2348976 ,  1.2263054 ,  1.2348976 ,\n",
              "        1.2348976 ,  1.2348976 ,  1.2263054 ,  1.2348976 ,  0.88261545,\n",
              "       -0.9131648 , -0.95612603,  0.0319827 ,  1.2348976 ,  1.1919364 ,\n",
              "        1.2348976 ,  1.2348976 ,  1.2348976 ,  1.2177131 ,  1.2348976 ,\n",
              "        0.8396542 , -0.95612603, -0.93894154, -0.95612603, -0.95612603,\n",
              "       -0.95612603, -0.95612603, -0.95612603, -0.95612603,  1.0029069 ,\n",
              "        1.2348976 ,  1.2263054 ,  1.2348976 ,  1.2348976 ,  1.2348976 ,\n",
              "        1.2348976 ,  1.2348976 ,  1.1575674 , -0.9131648 , -0.95612603,\n",
              "        0.0319827 ,  1.2348976 ,  1.1919364 ,  1.2348976 ,  1.2348976 ,\n",
              "        1.2348976 ,  1.2177131 ,  1.2348976 ,  0.8396542 , -0.95612603,\n",
              "       -0.93894154, -0.95612603, -0.95612603, -0.95612603, -0.95612603,\n",
              "       -0.95612603, -0.95612603,  1.0029069 ,  1.2348976 ,  1.2263054 ,\n",
              "        1.2348976 ,  1.2348976 ,  1.2348976 ,  1.2348976 ,  1.2348976 ,\n",
              "        1.0200914 , -0.9131648 , -0.95612603,  0.0319827 ,  1.2348976 ,\n",
              "        1.1919364 ,  1.2348976 ,  1.2348976 ,  1.2348976 ,  1.2177131 ,\n",
              "        1.2348976 ,  0.8396542 , -0.95612603, -0.93894154, -0.95612603,\n",
              "       -0.95612603, -0.95612603, -0.95612603, -0.95612603, -0.9475338 ,\n",
              "        1.0114992 ,  1.2348976 ,  1.2263054 ,  1.2348976 ,  1.2348976 ,\n",
              "        1.2348976 ,  1.2091209 ,  1.2348976 ,  0.5303332 , -0.9131648 ,\n",
              "       -0.95612603,  0.0319827 ,  1.2348976 ,  1.1919364 ,  1.2348976 ,\n",
              "        1.2348976 ,  1.2348976 ,  1.2177131 ,  1.2348976 ,  0.8396542 ,\n",
              "       -0.95612603, -0.93894154, -0.95612603, -0.95612603, -0.95612603,\n",
              "       -0.9475338 , -0.95612603, -0.8272423 ,  1.0458682 ,  1.2348976 ,\n",
              "        1.2263054 ,  1.2348976 ,  1.2348976 ,  1.2177131 ,  1.2263054 ,\n",
              "        1.2091209 , -0.36326078, -0.9131648 , -0.95612603,  0.0319827 ,\n",
              "        1.2348976 ,  1.1919364 ,  1.2348976 ,  1.2348976 ,  1.2348976 ,\n",
              "        1.2177131 ,  1.2348976 ,  0.8396542 , -0.95612603, -0.93894154,\n",
              "       -0.95612603, -0.95612603, -0.95612603, -0.9303493 , -0.95612603,\n",
              "       -0.49214453,  1.1661596 ,  1.2348976 ,  1.2263054 ,  1.2177131 ,\n",
              "        1.2091209 ,  1.2177131 ,  1.2348976 ,  0.08353619, -0.95612603,\n",
              "       -0.88738805, -0.95612603,  0.04916719,  1.2348976 ,  1.1919364 ,\n",
              "        1.2348976 ,  1.2348976 ,  1.2348976 ,  1.2177131 ,  1.2348976 ,\n",
              "        0.8396542 , -0.95612603, -0.9131648 , -0.9303493 , -0.9303493 ,\n",
              "       -0.9475338 , -0.9303493 , -0.95612603,  0.19523549,  1.2348976 ,\n",
              "        1.1833441 ,  1.2263054 ,  1.2263054 ,  1.2348976 ,  1.0974216 ,\n",
              "       -0.0539398 , -0.95612603, -0.95612603, -0.9131648 , -0.95612603,\n",
              "        0.0319827 ,  1.2348976 ,  1.1919364 ,  1.2348976 ,  1.2348976 ,\n",
              "        1.2348976 ,  1.2177131 ,  1.2348976 ,  0.8396542 , -0.95612603,\n",
              "       -0.93894154, -0.95612603, -0.95612603, -0.95612603, -0.87020355,\n",
              "        0.0319827 ,  1.2091209 ,  1.2348976 ,  1.2263054 ,  1.2348976 ,\n",
              "        0.9943147 ,  0.246789  , -0.66398954, -0.95612603, -0.9303493 ,\n",
              "       -0.95612603,  0.04057495, -0.08830879,  0.5647022 ,  1.2348976 ,\n",
              "        1.2091209 ,  1.2348976 ,  1.2348976 ,  1.2348976 ,  1.2263054 ,\n",
              "        1.2348976 ,  1.0114992 , -0.09690104, -0.07112429, -0.0367553 ,\n",
              "        0.07494394,  0.3327115 ,  0.7623239 ,  1.0544604 ,  0.8396542 ,\n",
              "        0.59047896,  0.2296045 , -0.3202995 , -0.79287326, -0.95612603,\n",
              "       -0.9475338 , -0.9303493 , -0.95612603, -0.95612603], dtype=float32)"
            ]
          },
          "metadata": {
            "tags": []
          },
          "execution_count": 57
        }
      ]
    },
    {
      "cell_type": "code",
      "metadata": {
        "colab": {
          "base_uri": "https://localhost:8080/",
          "height": 216
        },
        "id": "ySRmOlNNToBI",
        "outputId": "5c7a187b-8a8c-4df0-d2f8-b5c3cd0c6bee"
      },
      "source": [
        "for i in [0, 1]:\n",
        "    plt.subplot(1, 2, i + 1)\n",
        "    plt.imshow(X_train[i].reshape([28, 28]))\n",
        "    plt.title(str(y_train[i]))"
      ],
      "execution_count": 24,
      "outputs": [
        {
          "output_type": "display_data",
          "data": {
            "image/png": "[encoded data removed]",
            "text/plain": [
              "<Figure size 432x288 with 2 Axes>"
            ]
          },
          "metadata": {
            "tags": [],
            "needs_background": "light"
          }
        }
      ]
    },
    {
      "cell_type": "markdown",
      "metadata": {
        "id": "5l69e0jFToBI"
      },
      "source": [
        "Let's start with layers. The main abstraction here is __`torch.nn.Module`__:"
      ]
    },
    {
      "cell_type": "code",
      "metadata": {
        "colab": {
          "base_uri": "https://localhost:8080/"
        },
        "id": "kJrLwC8gToBJ",
        "outputId": "7c2a6232-0725-41c4-c852-4accd50aaba2"
      },
      "source": [
        "from torch import nn\n",
        "import torch.nn.functional as F\n",
        "\n",
        "print(nn.Module.__doc__)"
      ],
      "execution_count": 90,
      "outputs": [
        {
          "output_type": "stream",
          "text": [
            "Base class for all neural network modules.\n",
            "\n",
            "    Your models should also subclass this class.\n",
            "\n",
            "    Modules can also contain other Modules, allowing to nest them in\n",
            "    a tree structure. You can assign the submodules as regular attributes::\n",
            "\n",
            "        import torch.nn as nn\n",
            "        import torch.nn.functional as F\n",
            "\n",
            "        class Model(nn.Module):\n",
            "            def __init__(self):\n",
            "                super(Model, self).__init__()\n",
            "                self.conv1 = nn.Conv2d(1, 20, 5)\n",
            "                self.conv2 = nn.Conv2d(20, 20, 5)\n",
            "\n",
            "            def forward(self, x):\n",
            "                x = F.relu(self.conv1(x))\n",
            "                return F.relu(self.conv2(x))\n",
            "\n",
            "    Submodules assigned in this way will be registered, and will have their\n",
            "    parameters converted too when you call :meth:`to`, etc.\n",
            "\n",
            "    :ivar training: Boolean represents whether this module is in training or\n",
            "                    evaluation mode.\n",
            "    :vartype training: bool\n",
            "    \n"
          ],
          "name": "stdout"
        }
      ]
    },
    {
      "cell_type": "markdown",
      "metadata": {
        "id": "0C48ik8uToBK"
      },
      "source": [
        "There's a vast library of popular layers and architectures already built for ya'.\n",
        "\n",
        "This is a binary classification problem, so we'll train __Logistic Regression__.\n",
        "$$P(y_i | X_i) = \\sigma(W \\cdot X_i + b) ={ 1 \\over {1+e^{- [W \\cdot X_i + b]}} }$$\n"
      ]
    },
    {
      "cell_type": "code",
      "metadata": {
        "id": "i21HlQqrYJgM"
      },
      "source": [
        "# create a network that stacks layers on top of each other\r\n",
        "model = nn.Sequential()"
      ],
      "execution_count": 91,
      "outputs": []
    },
    {
      "cell_type": "code",
      "metadata": {
        "id": "WufktIh_ZNhk"
      },
      "source": [
        "# add first \"dense\" layer with 784 input units and 1 output unit.\r\n",
        "model.add_module('l1', nn.Linear(784, 1)) \r\n",
        "# looks like weights are initialized from U(-sqrt(k), sqrt(k)) where k 1/in_features_number\r\n",
        "# the same for bias (), so here we get two parameters, tensr for weights and tensor for bias\r\n",
        "# reference https://pytorch.org/docs/stable/generated/torch.nn.Linear.html\r\n",
        "\r\n",
        "\r\n",
        "# first parameter is equal in_features number\r\n",
        "# second parameter is equal out_features number"
      ],
      "execution_count": 92,
      "outputs": []
    },
    {
      "cell_type": "code",
      "metadata": {
        "colab": {
          "base_uri": "https://localhost:8080/"
        },
        "id": "VUIcU2daZOnn",
        "outputId": "c59ecbd2-4ea4-469f-d9ef-f78445806b40"
      },
      "source": [
        "#https://pytorch.org/docs/stable/_modules/torch/nn/modules/linear.html#Linear\r\n",
        "#model[0].weight\r\n",
        "model[0].bias"
      ],
      "execution_count": 93,
      "outputs": [
        {
          "output_type": "execute_result",
          "data": {
            "text/plain": [
              "Parameter containing:\n",
              "tensor([0.0142], requires_grad=True)"
            ]
          },
          "metadata": {
            "tags": []
          },
          "execution_count": 93
        }
      ]
    },
    {
      "cell_type": "code",
      "metadata": {
        "id": "ecNdeNKdToBK"
      },
      "source": [
        "# add softmax activation for probabilities. Normalize over axis 1\n",
        "# note: layer names must be unique\n",
        "model.add_module('l2', nn.Sigmoid())"
      ],
      "execution_count": 94,
      "outputs": []
    },
    {
      "cell_type": "code",
      "metadata": {
        "colab": {
          "base_uri": "https://localhost:8080/"
        },
        "id": "I6b2Kd6rcQk9",
        "outputId": "c1e177f0-7eb9-4b8d-8132-f840638a77ee"
      },
      "source": [
        "model[1]"
      ],
      "execution_count": 67,
      "outputs": [
        {
          "output_type": "execute_result",
          "data": {
            "text/plain": [
              "Sigmoid()"
            ]
          },
          "metadata": {
            "tags": []
          },
          "execution_count": 67
        }
      ]
    },
    {
      "cell_type": "code",
      "metadata": {
        "colab": {
          "base_uri": "https://localhost:8080/"
        },
        "id": "lvYlKefmToBL",
        "outputId": "e4d399fe-416b-4b05-d70c-088511b97cc8"
      },
      "source": [
        "print(\"Weight shapes:\", [w.shape for w in model.parameters()])"
      ],
      "execution_count": 95,
      "outputs": [
        {
          "output_type": "stream",
          "text": [
            "Weight shapes: [torch.Size([1, 784]), torch.Size([1])]\n"
          ],
          "name": "stdout"
        }
      ]
    },
    {
      "cell_type": "code",
      "metadata": {
        "id": "f_fDvog-cjoz"
      },
      "source": [
        "# create dummy data with 3 samples and 784 features\r\n",
        "x = torch.tensor(X_train[:3], dtype=torch.float32)\r\n",
        "y = torch.tensor(y_train[:3], dtype=torch.float32)"
      ],
      "execution_count": 96,
      "outputs": []
    },
    {
      "cell_type": "code",
      "metadata": {
        "colab": {
          "base_uri": "https://localhost:8080/"
        },
        "id": "X74rt_U5cq20",
        "outputId": "efe670bd-a6b2-4056-bca4-b30f8c0581f0"
      },
      "source": [
        "model(x)"
      ],
      "execution_count": 97,
      "outputs": [
        {
          "output_type": "execute_result",
          "data": {
            "text/plain": [
              "tensor([[0.2943],\n",
              "        [0.4979],\n",
              "        [0.5015]], grad_fn=<SigmoidBackward>)"
            ]
          },
          "metadata": {
            "tags": []
          },
          "execution_count": 97
        }
      ]
    },
    {
      "cell_type": "code",
      "metadata": {
        "colab": {
          "base_uri": "https://localhost:8080/"
        },
        "id": "ZOKrKCEoToBL",
        "outputId": "d5fdaa4d-683b-4b91-bc8b-17e74a76aad0"
      },
      "source": [
        "\n",
        "\n",
        "# compute outputs given inputs, both are variables\n",
        "y_predicted = model(x)[:, 0]\n",
        "\n",
        "y_predicted  # display what we've got"
      ],
      "execution_count": 98,
      "outputs": [
        {
          "output_type": "execute_result",
          "data": {
            "text/plain": [
              "tensor([0.2943, 0.4979, 0.5015], grad_fn=<SelectBackward>)"
            ]
          },
          "metadata": {
            "tags": []
          },
          "execution_count": 98
        }
      ]
    },
    {
      "cell_type": "code",
      "metadata": {
        "colab": {
          "base_uri": "https://localhost:8080/"
        },
        "id": "mF1cXcEqc_M8",
        "outputId": "79d5bc15-3b9c-44a6-e6a2-b3c17f421ae8"
      },
      "source": [
        "# personal note: lets calculate manually if we get the same for the first case\r\n",
        "\r\n",
        "x[0,:] # all the pixels for first image\r\n",
        "1/(1+torch.exp(-torch.matmul(x[0,:], model[0].weight.transpose(1, 0)) - model[0].bias)) # we go exactly the same as first element in 'predicted'\r\n",
        "\r\n",
        "# this is out initial predicted probability with initial randomly initiated weights"
      ],
      "execution_count": 100,
      "outputs": [
        {
          "output_type": "execute_result",
          "data": {
            "text/plain": [
              "tensor([0.2943], grad_fn=<MulBackward0>)"
            ]
          },
          "metadata": {
            "tags": []
          },
          "execution_count": 100
        }
      ]
    },
    {
      "cell_type": "markdown",
      "metadata": {
        "id": "-798tjsgToBM"
      },
      "source": [
        "Let's now define a loss function for our model.\n",
        "\n",
        "The natural choice is to use binary crossentropy (aka logloss, negative llh):\n",
        "$$ L = {1 \\over N} \\underset{X_i,y_i} \\sum - [  y_i \\cdot log P(y_i=1 | X_i) + (1-y_i) \\cdot log (1-P(y_i=1 | X_i)) ]$$\n",
        "\n"
      ]
    },
    {
      "cell_type": "code",
      "metadata": {
        "id": "cJy0YSUof9d3"
      },
      "source": [
        "crossentropy = y*torch.log(y_predicted) + (1-y)*torch.log(1-y_predicted) #my piece of code"
      ],
      "execution_count": 112,
      "outputs": []
    },
    {
      "cell_type": "code",
      "metadata": {
        "id": "mWpaURwOToBM"
      },
      "source": [
        "loss = crossentropy.mean()*(-1.0) # my piece of code\n",
        "\n",
        "assert tuple(crossentropy.size()) == (\n",
        "    3,), \"Crossentropy must be a vector with element per sample\"\n",
        "assert tuple(loss.size()) == tuple(\n",
        "), \"Loss must be scalar. Did you forget the mean/sum?\"\n",
        "assert loss.data.numpy() > 0, \"Crossentropy must non-negative, zero only for perfect prediction\"\n",
        "assert loss.data.numpy() <= np.log(\n",
        "    3), \"Loss is too large even for untrained model. Please double-check it.\""
      ],
      "execution_count": 113,
      "outputs": []
    },
    {
      "cell_type": "markdown",
      "metadata": {
        "id": "yK2Q8r1wToBN"
      },
      "source": [
        "__Note:__ you can also find many such functions in `torch.nn.functional`, just type __`F.<tab>`__."
      ]
    },
    {
      "cell_type": "code",
      "metadata": {
        "colab": {
          "base_uri": "https://localhost:8080/",
          "height": 354
        },
        "id": "HtDCJO4rhQqi",
        "outputId": "f6214668-64c7-42e5-fd6d-0e4c21e2d8cd"
      },
      "source": [
        "# personal note: lets check if we get the same output from in-built function\r\n",
        "loss1 = nn.CrossEntropyLoss()\r\n",
        "output = loss1(y_predicted, y)\r\n",
        "#output.backward()"
      ],
      "execution_count": 116,
      "outputs": [
        {
          "output_type": "error",
          "ename": "IndexError",
          "evalue": "ignored",
          "traceback": [
            "\u001b[0;31m---------------------------------------------------------------------------\u001b[0m",
            "\u001b[0;31mIndexError\u001b[0m                                Traceback (most recent call last)",
            "\u001b[0;32m<ipython-input-116-3bcd899aae13>\u001b[0m in \u001b[0;36m<module>\u001b[0;34m()\u001b[0m\n\u001b[1;32m      1\u001b[0m \u001b[0;31m# personal note: lets check if we get the same output from in-built function\u001b[0m\u001b[0;34m\u001b[0m\u001b[0;34m\u001b[0m\u001b[0;34m\u001b[0m\u001b[0m\n\u001b[1;32m      2\u001b[0m \u001b[0mloss1\u001b[0m \u001b[0;34m=\u001b[0m \u001b[0mnn\u001b[0m\u001b[0;34m.\u001b[0m\u001b[0mCrossEntropyLoss\u001b[0m\u001b[0;34m(\u001b[0m\u001b[0;34m)\u001b[0m\u001b[0;34m\u001b[0m\u001b[0;34m\u001b[0m\u001b[0m\n\u001b[0;32m----> 3\u001b[0;31m \u001b[0moutput\u001b[0m \u001b[0;34m=\u001b[0m \u001b[0mloss1\u001b[0m\u001b[0;34m(\u001b[0m\u001b[0my_predicted\u001b[0m\u001b[0;34m,\u001b[0m \u001b[0my\u001b[0m\u001b[0;34m)\u001b[0m\u001b[0;34m\u001b[0m\u001b[0;34m\u001b[0m\u001b[0m\n\u001b[0m\u001b[1;32m      4\u001b[0m \u001b[0;31m#output.backward()\u001b[0m\u001b[0;34m\u001b[0m\u001b[0;34m\u001b[0m\u001b[0;34m\u001b[0m\u001b[0m\n",
            "\u001b[0;32m/usr/local/lib/python3.6/dist-packages/torch/nn/modules/module.py\u001b[0m in \u001b[0;36m_call_impl\u001b[0;34m(self, *input, **kwargs)\u001b[0m\n\u001b[1;32m    725\u001b[0m             \u001b[0mresult\u001b[0m \u001b[0;34m=\u001b[0m \u001b[0mself\u001b[0m\u001b[0;34m.\u001b[0m\u001b[0m_slow_forward\u001b[0m\u001b[0;34m(\u001b[0m\u001b[0;34m*\u001b[0m\u001b[0minput\u001b[0m\u001b[0;34m,\u001b[0m \u001b[0;34m**\u001b[0m\u001b[0mkwargs\u001b[0m\u001b[0;34m)\u001b[0m\u001b[0;34m\u001b[0m\u001b[0;34m\u001b[0m\u001b[0m\n\u001b[1;32m    726\u001b[0m         \u001b[0;32melse\u001b[0m\u001b[0;34m:\u001b[0m\u001b[0;34m\u001b[0m\u001b[0;34m\u001b[0m\u001b[0m\n\u001b[0;32m--> 727\u001b[0;31m             \u001b[0mresult\u001b[0m \u001b[0;34m=\u001b[0m \u001b[0mself\u001b[0m\u001b[0;34m.\u001b[0m\u001b[0mforward\u001b[0m\u001b[0;34m(\u001b[0m\u001b[0;34m*\u001b[0m\u001b[0minput\u001b[0m\u001b[0;34m,\u001b[0m \u001b[0;34m**\u001b[0m\u001b[0mkwargs\u001b[0m\u001b[0;34m)\u001b[0m\u001b[0;34m\u001b[0m\u001b[0;34m\u001b[0m\u001b[0m\n\u001b[0m\u001b[1;32m    728\u001b[0m         for hook in itertools.chain(\n\u001b[1;32m    729\u001b[0m                 \u001b[0m_global_forward_hooks\u001b[0m\u001b[0;34m.\u001b[0m\u001b[0mvalues\u001b[0m\u001b[0;34m(\u001b[0m\u001b[0;34m)\u001b[0m\u001b[0;34m,\u001b[0m\u001b[0;34m\u001b[0m\u001b[0;34m\u001b[0m\u001b[0m\n",
            "\u001b[0;32m/usr/local/lib/python3.6/dist-packages/torch/nn/modules/loss.py\u001b[0m in \u001b[0;36mforward\u001b[0;34m(self, input, target)\u001b[0m\n\u001b[1;32m    960\u001b[0m     \u001b[0;32mdef\u001b[0m \u001b[0mforward\u001b[0m\u001b[0;34m(\u001b[0m\u001b[0mself\u001b[0m\u001b[0;34m,\u001b[0m \u001b[0minput\u001b[0m\u001b[0;34m:\u001b[0m \u001b[0mTensor\u001b[0m\u001b[0;34m,\u001b[0m \u001b[0mtarget\u001b[0m\u001b[0;34m:\u001b[0m \u001b[0mTensor\u001b[0m\u001b[0;34m)\u001b[0m \u001b[0;34m->\u001b[0m \u001b[0mTensor\u001b[0m\u001b[0;34m:\u001b[0m\u001b[0;34m\u001b[0m\u001b[0;34m\u001b[0m\u001b[0m\n\u001b[1;32m    961\u001b[0m         return F.cross_entropy(input, target, weight=self.weight,\n\u001b[0;32m--> 962\u001b[0;31m                                ignore_index=self.ignore_index, reduction=self.reduction)\n\u001b[0m\u001b[1;32m    963\u001b[0m \u001b[0;34m\u001b[0m\u001b[0m\n\u001b[1;32m    964\u001b[0m \u001b[0;34m\u001b[0m\u001b[0m\n",
            "\u001b[0;32m/usr/local/lib/python3.6/dist-packages/torch/nn/functional.py\u001b[0m in \u001b[0;36mcross_entropy\u001b[0;34m(input, target, weight, size_average, ignore_index, reduce, reduction)\u001b[0m\n\u001b[1;32m   2466\u001b[0m     \u001b[0;32mif\u001b[0m \u001b[0msize_average\u001b[0m \u001b[0;32mis\u001b[0m \u001b[0;32mnot\u001b[0m \u001b[0;32mNone\u001b[0m \u001b[0;32mor\u001b[0m \u001b[0mreduce\u001b[0m \u001b[0;32mis\u001b[0m \u001b[0;32mnot\u001b[0m \u001b[0;32mNone\u001b[0m\u001b[0;34m:\u001b[0m\u001b[0;34m\u001b[0m\u001b[0;34m\u001b[0m\u001b[0m\n\u001b[1;32m   2467\u001b[0m         \u001b[0mreduction\u001b[0m \u001b[0;34m=\u001b[0m \u001b[0m_Reduction\u001b[0m\u001b[0;34m.\u001b[0m\u001b[0mlegacy_get_string\u001b[0m\u001b[0;34m(\u001b[0m\u001b[0msize_average\u001b[0m\u001b[0;34m,\u001b[0m \u001b[0mreduce\u001b[0m\u001b[0;34m)\u001b[0m\u001b[0;34m\u001b[0m\u001b[0;34m\u001b[0m\u001b[0m\n\u001b[0;32m-> 2468\u001b[0;31m     \u001b[0;32mreturn\u001b[0m \u001b[0mnll_loss\u001b[0m\u001b[0;34m(\u001b[0m\u001b[0mlog_softmax\u001b[0m\u001b[0;34m(\u001b[0m\u001b[0minput\u001b[0m\u001b[0;34m,\u001b[0m \u001b[0;36m1\u001b[0m\u001b[0;34m)\u001b[0m\u001b[0;34m,\u001b[0m \u001b[0mtarget\u001b[0m\u001b[0;34m,\u001b[0m \u001b[0mweight\u001b[0m\u001b[0;34m,\u001b[0m \u001b[0;32mNone\u001b[0m\u001b[0;34m,\u001b[0m \u001b[0mignore_index\u001b[0m\u001b[0;34m,\u001b[0m \u001b[0;32mNone\u001b[0m\u001b[0;34m,\u001b[0m \u001b[0mreduction\u001b[0m\u001b[0;34m)\u001b[0m\u001b[0;34m\u001b[0m\u001b[0;34m\u001b[0m\u001b[0m\n\u001b[0m\u001b[1;32m   2469\u001b[0m \u001b[0;34m\u001b[0m\u001b[0m\n\u001b[1;32m   2470\u001b[0m \u001b[0;34m\u001b[0m\u001b[0m\n",
            "\u001b[0;32m/usr/local/lib/python3.6/dist-packages/torch/nn/functional.py\u001b[0m in \u001b[0;36mlog_softmax\u001b[0;34m(input, dim, _stacklevel, dtype)\u001b[0m\n\u001b[1;32m   1603\u001b[0m         \u001b[0mdim\u001b[0m \u001b[0;34m=\u001b[0m \u001b[0m_get_softmax_dim\u001b[0m\u001b[0;34m(\u001b[0m\u001b[0;34m'log_softmax'\u001b[0m\u001b[0;34m,\u001b[0m \u001b[0minput\u001b[0m\u001b[0;34m.\u001b[0m\u001b[0mdim\u001b[0m\u001b[0;34m(\u001b[0m\u001b[0;34m)\u001b[0m\u001b[0;34m,\u001b[0m \u001b[0m_stacklevel\u001b[0m\u001b[0;34m)\u001b[0m\u001b[0;34m\u001b[0m\u001b[0;34m\u001b[0m\u001b[0m\n\u001b[1;32m   1604\u001b[0m     \u001b[0;32mif\u001b[0m \u001b[0mdtype\u001b[0m \u001b[0;32mis\u001b[0m \u001b[0;32mNone\u001b[0m\u001b[0;34m:\u001b[0m\u001b[0;34m\u001b[0m\u001b[0;34m\u001b[0m\u001b[0m\n\u001b[0;32m-> 1605\u001b[0;31m         \u001b[0mret\u001b[0m \u001b[0;34m=\u001b[0m \u001b[0minput\u001b[0m\u001b[0;34m.\u001b[0m\u001b[0mlog_softmax\u001b[0m\u001b[0;34m(\u001b[0m\u001b[0mdim\u001b[0m\u001b[0;34m)\u001b[0m\u001b[0;34m\u001b[0m\u001b[0;34m\u001b[0m\u001b[0m\n\u001b[0m\u001b[1;32m   1606\u001b[0m     \u001b[0;32melse\u001b[0m\u001b[0;34m:\u001b[0m\u001b[0;34m\u001b[0m\u001b[0;34m\u001b[0m\u001b[0m\n\u001b[1;32m   1607\u001b[0m         \u001b[0mret\u001b[0m \u001b[0;34m=\u001b[0m \u001b[0minput\u001b[0m\u001b[0;34m.\u001b[0m\u001b[0mlog_softmax\u001b[0m\u001b[0;34m(\u001b[0m\u001b[0mdim\u001b[0m\u001b[0;34m,\u001b[0m \u001b[0mdtype\u001b[0m\u001b[0;34m=\u001b[0m\u001b[0mdtype\u001b[0m\u001b[0;34m)\u001b[0m\u001b[0;34m\u001b[0m\u001b[0;34m\u001b[0m\u001b[0m\n",
            "\u001b[0;31mIndexError\u001b[0m: Dimension out of range (expected to be in range of [-1, 0], but got 1)"
          ]
        }
      ]
    },
    {
      "cell_type": "markdown",
      "metadata": {
        "id": "_Pb3bx3xToBO"
      },
      "source": [
        "__Torch optimizers__\n",
        "\n",
        "When we trained Linear Regression above, we had to manually `.zero_()` gradients on both our variables. Imagine that code for a 50-layer network.\n",
        "\n",
        "Again, to keep it from getting dirty, there's `torch.optim` module with pre-implemented algorithms:"
      ]
    },
    {
      "cell_type": "code",
      "metadata": {
        "id": "baXg1rleToBO"
      },
      "source": [
        "opt = torch.optim.RMSprop(model.parameters(), lr=0.01)\n",
        "\n",
        "# here's how it's used:\n",
        "opt.zero_grad()      # clear gradients\n",
        "loss.backward()      # add new gradients\n",
        "opt.step()           # change weights"
      ],
      "execution_count": null,
      "outputs": []
    },
    {
      "cell_type": "code",
      "metadata": {
        "id": "t-CrxrqJToBP"
      },
      "source": [
        "# dispose of old variables to avoid bugs later\n",
        "del x, y, y_predicted, loss, y_pred"
      ],
      "execution_count": null,
      "outputs": []
    },
    {
      "cell_type": "markdown",
      "metadata": {
        "id": "EedYS4tCToBP"
      },
      "source": [
        "### Putting it all together"
      ]
    },
    {
      "cell_type": "code",
      "metadata": {
        "id": "TtGLchkpToBP"
      },
      "source": [
        "# create network again just in case\n",
        "model = nn.Sequential()\n",
        "model.add_module('first', nn.Linear(784, 1))\n",
        "model.add_module('second', nn.Sigmoid())\n",
        "\n",
        "opt = torch.optim.Adam(model.parameters(), lr=1e-3)"
      ],
      "execution_count": null,
      "outputs": []
    },
    {
      "cell_type": "code",
      "metadata": {
        "id": "0vCuf1-WToBQ",
        "outputId": "8754dc2e-cbb1-4b13-fa0b-23d9576e0b77"
      },
      "source": [
        "history = []\n",
        "\n",
        "for i in range(100):\n",
        "\n",
        "    # sample 256 random images\n",
        "    ix = np.random.randint(0, len(X_train), 256)\n",
        "    x_batch = torch.tensor(X_train[ix], dtype=torch.float32)\n",
        "    y_batch = torch.tensor(y_train[ix], dtype=torch.float32)\n",
        "\n",
        "    # predict probabilities\n",
        "    y_predicted = <YOUR CODE>\n",
        "\n",
        "    assert y_predicted.dim(\n",
        "    ) == 1, \"did you forget to select first column with [:, 0]\"\n",
        "\n",
        "    # compute loss, just like before\n",
        "    loss = <YOUR CODE>\n",
        "\n",
        "    # compute gradients\n",
        "    <YOUR CODE>\n",
        "\n",
        "    # Adam step\n",
        "    <YOUR CODE>\n",
        "\n",
        "    # clear gradients\n",
        "    <YOUR CODE>\n",
        "\n",
        "    history.append(loss.data.numpy())\n",
        "\n",
        "    if i % 10 == 0:\n",
        "        print(\"step #%i | mean loss = %.3f\" % (i, np.mean(history[-10:])))"
      ],
      "execution_count": null,
      "outputs": [
        {
          "output_type": "stream",
          "text": [
            "step #0 | mean loss = 0.573\n",
            "step #10 | mean loss = 0.371\n",
            "step #20 | mean loss = 0.218\n",
            "step #30 | mean loss = 0.159\n",
            "step #40 | mean loss = 0.141\n",
            "step #50 | mean loss = 0.127\n",
            "step #60 | mean loss = 0.131\n",
            "step #70 | mean loss = 0.107\n",
            "step #80 | mean loss = 0.116\n",
            "step #90 | mean loss = 0.101\n"
          ],
          "name": "stdout"
        }
      ]
    },
    {
      "cell_type": "markdown",
      "metadata": {
        "id": "sh9OJY5wToBR"
      },
      "source": [
        "__Debugging tips:__\n",
        "* Make sure your model predicts probabilities correctly. Just print them and see what's inside.\n",
        "* Don't forget the _minus_ sign in the loss function! It's a mistake 99% people do at some point.\n",
        "* Make sure you zero-out gradients after each step. Seriously:)\n",
        "* In general, PyTorch's error messages are quite helpful, read 'em before you google 'em.\n",
        "* if you see nan/inf, print what happens at each iteration to find our where exactly it occurs.\n",
        "  * If loss goes down and then turns nan midway through, try smaller learning rate. (Our current loss formula is unstable)."
      ]
    },
    {
      "cell_type": "markdown",
      "metadata": {
        "id": "1M1q6l_aToBV"
      },
      "source": [
        "### Evaluation\n",
        "\n",
        "Let's see how our model performs on test data"
      ]
    },
    {
      "cell_type": "code",
      "metadata": {
        "id": "PWXXtZusToBW",
        "outputId": "2008cd8e-dedc-4bd6-9e7f-8b39dc50e923"
      },
      "source": [
        "# use your model to predict classes (0 or 1) for all test samples\n",
        "predicted_y_test = <YOUR CODE>\n",
        "\n",
        "assert isinstance(predicted_y_test, np.ndarray), \"please return np array, not %s\" % type(\n",
        "    predicted_y_test)\n",
        "assert predicted_y_test.shape == y_test.shape, \"please predict one class for each test sample\"\n",
        "assert np.in1d(predicted_y_test, y_test).all(), \"please predict class indexes\"\n",
        "\n",
        "accuracy = np.mean(predicted_y_test == y_test)\n",
        "\n",
        "print(\"Test accuracy: %.5f\" % accuracy)\n",
        "assert accuracy > 0.95, \"try training longer\""
      ],
      "execution_count": null,
      "outputs": [
        {
          "output_type": "stream",
          "text": [
            "Test accuracy: 0.96585\n"
          ],
          "name": "stdout"
        }
      ]
    },
    {
      "cell_type": "markdown",
      "metadata": {
        "id": "yHEVl_2EToBX"
      },
      "source": [
        "## More about PyTorch:\n",
        "* Using torch on GPU and multi-GPU - [link](http://pytorch.org/docs/master/notes/cuda.html)\n",
        "* More tutorials on PyTorch - [link](http://pytorch.org/tutorials/beginner/deep_learning_60min_blitz.html)\n",
        "* PyTorch examples - a repo that implements many cool DL models in PyTorch - [link](https://github.com/pytorch/examples)\n",
        "* Practical PyTorch - a repo that implements some... other cool DL models... yes, in PyTorch - [link](https://github.com/spro/practical-pytorch)\n",
        "* And some more - [link](https://www.reddit.com/r/pytorch/comments/6z0yeo/pytorch_and_pytorch_tricks_for_kaggle/)\n",
        "\n",
        "---"
      ]
    },
    {
      "cell_type": "markdown",
      "metadata": {
        "id": "ofTDBhe3ToBY"
      },
      "source": [
        "# Bonus tasks\n",
        "\n",
        "If you get stuck with no progress, try switching to the next task and returning later."
      ]
    },
    {
      "cell_type": "markdown",
      "metadata": {
        "id": "yuy2VcDtToBY"
      },
      "source": [
        "### Task I - tensormancy\n",
        "\n",
        "![img](https://media.giphy.com/media/3o751UMCYtSrRAFRFC/giphy.gif)\n",
        "\n",
        "When dealing with more complex stuff like neural network, it's best if you use tensors the way samurai uses his sword. \n",
        "\n",
        "\n",
        "__1.1 The Cannabola__ \n",
        "[(_disclaimer_)](https://gist.githubusercontent.com/justheuristic/e2c1fa28ca02670cabc42cacf3902796/raw/fd3d935cef63a01b85ed2790b5c11c370245cbd7/stddisclaimer.h)\n",
        "\n",
        "Let's write another function, this time in polar coordinates:\n",
        "$$\\rho(\\theta) = (1 + 0.9 \\cdot cos (8 \\cdot \\theta) ) \\cdot (1 + 0.1 \\cdot cos(24 \\cdot \\theta)) \\cdot (0.9 + 0.05 \\cdot cos(200 \\cdot \\theta)) \\cdot (1 + sin(\\theta))$$\n",
        "\n",
        "\n",
        "Then convert it into cartesian coordinates ([howto](http://www.mathsisfun.com/polar-cartesian-coordinates.html)) and plot the results.\n",
        "\n",
        "Use torch tensors only: no lists, loops, numpy arrays, etc."
      ]
    },
    {
      "cell_type": "code",
      "metadata": {
        "id": "2esi94lQToBY"
      },
      "source": [
        "theta = torch.linspace(- np.pi, np.pi, steps=1000)\n",
        "\n",
        "# compute rho(theta) as per formula above\n",
        "rho = <YOUR CODE>\n",
        "\n",
        "# Now convert polar (rho, theta) pairs into cartesian (x,y) to plot them.\n",
        "x = <YOUR CODE>\n",
        "y = <YOUR CODE>\n",
        "\n",
        "\n",
        "plt.figure(figsize=[6, 6])\n",
        "plt.fill(x.numpy(), y.numpy(), color='green')\n",
        "plt.grid()"
      ],
      "execution_count": null,
      "outputs": []
    },
    {
      "cell_type": "markdown",
      "metadata": {
        "id": "ApDTlUMsToBZ"
      },
      "source": [
        "### Task II: The Game of Life\n",
        "\n",
        "Now it's time for you to make something more challenging. We'll implement Conway's [Game of Life](http://web.stanford.edu/~cdebs/GameOfLife/) in _pure PyTorch_. \n",
        "\n",
        "While this is still a toy task, implementing game of life this way has one cool benefit: __you'll be able to run it on GPU!__ Indeed, what could be a better use of your GPU than simulating Game of Life on 1M/1M grids?\n",
        "\n",
        "![img](https://cdn.tutsplus.com/gamedev/authors/legacy/Stephane%20Beniak/2012/09/11/Preview_Image.png)\n",
        "If you've skipped the URL above out of sloth, here's the Game of Life:\n",
        "* You have a 2D grid of cells, where each cell is \"alive\"(1) or \"dead\"(0)\n",
        "* Any living cell that has 2 or 3 neighbors survives, else it dies [0,1 or 4+ neighbors]\n",
        "* Any cell with exactly 3 neighbors becomes alive (if it was dead)\n",
        "\n",
        "For this task, you are given a reference NumPy implementation that you must convert to PyTorch.\n",
        "_[NumPy code inspired by: https://github.com/rougier/numpy-100]_\n",
        "\n",
        "\n",
        "__Note:__ You can find convolution in `torch.nn.functional.conv2d(Z,filters)`. Note that it has a different input format.\n",
        "\n",
        "__Note 2:__ From the mathematical standpoint, PyTorch convolution is actually cross-correlation. Those two are very similar operations. More info: [video tutorial](https://www.youtube.com/watch?v=C3EEy8adxvc), [scipy functions review](http://programmerz.ru/questions/26903/2d-convolution-in-python-similar-to-matlabs-conv2-question), [stack overflow source](https://stackoverflow.com/questions/31139977/comparing-matlabs-conv2-with-scipys-convolve2d)."
      ]
    },
    {
      "cell_type": "code",
      "metadata": {
        "id": "hxKnyxfHToBZ"
      },
      "source": [
        "from scipy.signal import correlate2d\n",
        "\n",
        "def np_update(Z):\n",
        "    # Count neighbours with convolution\n",
        "    filters = np.array([[1, 1, 1],\n",
        "                        [1, 0, 1],\n",
        "                        [1, 1, 1]])\n",
        "\n",
        "    N = correlate2d(Z, filters, mode='same')\n",
        "\n",
        "    # Apply rules\n",
        "    birth = (N == 3) & (Z == 0)\n",
        "    survive = ((N == 2) | (N == 3)) & (Z == 1)\n",
        "\n",
        "    Z[:] = birth | survive\n",
        "    return Z"
      ],
      "execution_count": null,
      "outputs": []
    },
    {
      "cell_type": "code",
      "metadata": {
        "id": "Yhq8oZ6UToBa"
      },
      "source": [
        "def torch_update(Z):\n",
        "    \"\"\"\n",
        "    Implement an update function that does to Z exactly the same as np_update.\n",
        "    :param Z: torch.FloatTensor of shape [height,width] containing 0s(dead) an 1s(alive)\n",
        "    :returns: torch.FloatTensor Z after updates.\n",
        "\n",
        "    You can opt to create a new tensor or change Z inplace.\n",
        "    \"\"\"\n",
        "\n",
        "    <YOUR CODE>\n",
        "\n",
        "    return Z"
      ],
      "execution_count": null,
      "outputs": []
    },
    {
      "cell_type": "code",
      "metadata": {
        "id": "UGAD_plHToBa"
      },
      "source": [
        "# initial frame\n",
        "Z_numpy = np.random.choice([0, 1], p=(0.5, 0.5), size=(100, 100))\n",
        "Z = torch.from_numpy(Z_numpy).type(torch.FloatTensor)\n",
        "\n",
        "# your debug polygon :)\n",
        "Z_new = torch_update(Z.clone())\n",
        "\n",
        "# tests\n",
        "Z_reference = np_update(Z_numpy.copy())\n",
        "assert np.all(Z_new.numpy() == Z_reference), \\\n",
        "    \"your PyTorch implementation doesn't match np_update. Look into Z and np_update(ZZ) to investigate.\"\n",
        "print(\"Well done!\")"
      ],
      "execution_count": null,
      "outputs": []
    },
    {
      "cell_type": "code",
      "metadata": {
        "id": "AQiGJniXToBb"
      },
      "source": [
        "%matplotlib notebook\n",
        "plt.ion()\n",
        "\n",
        "# initialize game field\n",
        "Z = np.random.choice([0, 1], size=(100, 100))\n",
        "Z = torch.from_numpy(Z).type(torch.FloatTensor)\n",
        "\n",
        "fig = plt.figure()\n",
        "ax = fig.add_subplot(111)\n",
        "fig.show()\n",
        "\n",
        "for _ in range(100):\n",
        "    # update\n",
        "    Z = torch_update(Z)\n",
        "\n",
        "    # re-draw image\n",
        "    ax.clear()\n",
        "    ax.imshow(Z.numpy(), cmap='gray')\n",
        "    fig.canvas.draw()"
      ],
      "execution_count": null,
      "outputs": []
    },
    {
      "cell_type": "code",
      "metadata": {
        "id": "NdbwydADToBb"
      },
      "source": [
        "# Some fun setups for your amusement\n",
        "\n",
        "# parallel stripes\n",
        "Z = np.arange(100) % 2 + np.zeros([100, 100])\n",
        "# with a small imperfection\n",
        "Z[48:52, 50] = 1\n",
        "\n",
        "Z = torch.from_numpy(Z).type(torch.FloatTensor)\n",
        "\n",
        "fig = plt.figure()\n",
        "ax = fig.add_subplot(111)\n",
        "fig.show()\n",
        "\n",
        "for _ in range(100):\n",
        "    Z = torch_update(Z)\n",
        "    ax.clear()\n",
        "    ax.imshow(Z.numpy(), cmap='gray')\n",
        "    fig.canvas.draw()"
      ],
      "execution_count": null,
      "outputs": []
    },
    {
      "cell_type": "markdown",
      "metadata": {
        "id": "Gxf2odOnToBb"
      },
      "source": [
        "More fun with Game of Life: [video](https://www.youtube.com/watch?v=C2vgICfQawE)"
      ]
    },
    {
      "cell_type": "markdown",
      "metadata": {
        "id": "GfwS9vs0ToBc"
      },
      "source": [
        "### Task III: Going deeper\n",
        "<img src=\"http://download.gamezone.com/uploads/image/data/1190338/article_post_width_a88.jpg\" width=360>\n",
        "Your ultimate task for this week is to build your first neural network [almost] from scratch and pure PyTorch.\n",
        "\n",
        "This time you will solve the same digit recognition problem, but at a larger scale\n",
        "\n",
        "* 10 different letters\n",
        "* 20k samples\n",
        "\n",
        "We want you to build a network that reaches at least 80% accuracy and has at least 2 linear layers in it. Naturally, it should be nonlinear to beat logistic regression.\n",
        "\n",
        "With 10 classes you will need to use __Softmax__ at the top instead of sigmoid and train using __categorical crossentropy__  (see [here](http://wiki.fast.ai/index.php/Log_Loss)).  Write your own loss or use `torch.nn.functional.nll_loss`. Just make sure you understand what it accepts as input.\n",
        "\n",
        "Note that you are not required to build 152-layer monsters here. A 2-layer (one hidden, one output) neural network should already give you an edge over logistic regression.\n",
        "\n",
        "\n",
        "__[bonus kudos]__\n",
        "If you've already beaten logistic regression with a two-layer net, but enthusiasm still ain't gone, you can try improving the test accuracy even further! It should be possible to reach 90% without convnets.\n",
        "\n",
        "__SPOILERS!__\n",
        "At the end of the notebook you will find a few tips and frequent errors. \n",
        "If you feel confident enough, just start coding right away and get there ~~if~~ once you need to untangle yourself."
      ]
    },
    {
      "cell_type": "code",
      "metadata": {
        "id": "eKexNvvMToBc"
      },
      "source": [
        "from notmnist import load_notmnist\n",
        "X_train, y_train, X_test, y_test = load_notmnist(letters='ABCDEFGHIJ')\n",
        "X_train, X_test = X_train.reshape([-1, 784]), X_test.reshape([-1, 784])"
      ],
      "execution_count": null,
      "outputs": []
    },
    {
      "cell_type": "code",
      "metadata": {
        "id": "4kcy4001ToBd",
        "outputId": "ca366263-7377-47dd-8f85-2aa811d9e7ca"
      },
      "source": [
        "%matplotlib inline\n",
        "plt.figure(figsize=[12, 4])\n",
        "for i in range(20):\n",
        "    plt.subplot(2, 10, i+1)\n",
        "    plt.imshow(X_train[i].reshape([28, 28]))\n",
        "    plt.title(str(y_train[i]))"
      ],
      "execution_count": null,
      "outputs": [
        {
          "output_type": "display_data",
          "data": {
            "image/png": "[encoded data removed]",
            "text/plain": [
              "<matplotlib.figure.Figure at 0x7f625a9f4278>"
            ]
          },
          "metadata": {
            "tags": []
          }
        }
      ]
    },
    {
      "cell_type": "code",
      "metadata": {
        "id": "oOOUWA9NToBd"
      },
      "source": [
        "<YOUR CODE: a whole lot of it>"
      ],
      "execution_count": null,
      "outputs": []
    },
    {
      "cell_type": "markdown",
      "metadata": {
        "id": "lsoYSfl0ToBe"
      },
      "source": [
        "<br/><br/><br/><br/><br/><br/><br/><br/><br/><br/><br/><br/>"
      ]
    },
    {
      "cell_type": "markdown",
      "metadata": {
        "id": "MBb_7lS9ToBe"
      },
      "source": [
        "# SPOILERS!\n",
        "\n",
        "Recommended pipeline:\n",
        "\n",
        "* Adapt logistic regression from previous assignment to classify one letter against others (e.g. A vs the rest)\n",
        "* Generalize it to multiclass logistic regression.\n",
        "  - Either try to remember lecture 0 or google it.\n",
        "  - Instead of weight vector you'll have to use matrix (feature_id x class_id)\n",
        "  - Softmax (exp over sum of exps) can be implemented manually or as `nn.Softmax` (layer) or `F.softmax` (function)\n",
        "  - Probably better to use STOCHASTIC gradient descent (minibatch) for greater speed\n",
        "    - You can also try momentum/rmsprop/adawhatever\n",
        "    - in which case the dataset should probably be shuffled (or use random subsamples on each iteration)\n",
        "* Add a hidden layer. Now your logistic regression uses hidden neurons instead of inputs.\n",
        "  - Hidden layer uses the same math as output layer (ex-logistic regression), but uses some nonlinearity (e.g. sigmoid) instead of softmax\n",
        "  - You need to train both layers, not just the output layer :)\n",
        "  - 50 hidden neurons and a sigmoid nonlinearity will do for a start. Many ways to improve. \n",
        "  - In ideal case this totals to 2 `torch.matmul`'s, 1 softmax and 1 ReLU/sigmoid\n",
        "  - __Make sure this neural network works better than logistic regression!__\n",
        "  \n",
        "* Now's the time to try improving the network. Consider layers (size, neuron count), nonlinearities, optimization methods, initialization — whatever you want, but please avoid convolutions for now.\n",
        "  \n",
        "* If anything seems wrong, try going through one step of training and printing everything you compute.\n",
        "* If you see NaNs midway through optimization, you can estimate $\\log P(y \\mid x)$ as `F.log_softmax(layer_before_softmax)`."
      ]
    }
  ]
}